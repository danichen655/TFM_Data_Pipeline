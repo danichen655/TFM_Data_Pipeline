{
 "cells": [
  {
   "cell_type": "markdown",
   "metadata": {
    "application/vnd.databricks.v1+cell": {
     "cellMetadata": {
      "byteLimit": 2048000,
      "rowLimit": 10000
     },
     "inputWidgets": {},
     "nuid": "1fd459a3-c267-4458-ba6e-5a04e3c89b89",
     "showTitle": false,
     "tableResultSettingsMap": {},
     "title": ""
    }
   },
   "source": [
    "# Gold\n"
   ]
  },
  {
   "cell_type": "code",
   "execution_count": 0,
   "metadata": {
    "application/vnd.databricks.v1+cell": {
     "cellMetadata": {
      "byteLimit": 2048000,
      "rowLimit": 10000
     },
     "inputWidgets": {},
     "nuid": "0fc93dbf-aadc-4417-8133-a46428b277ad",
     "showTitle": false,
     "tableResultSettingsMap": {},
     "title": ""
    }
   },
   "outputs": [],
   "source": [
    "from datetime import datetime\n",
    "\n",
    "container = \"ofertas-empleo\"\n",
    "account = spark.conf.get(\"adls.account.name\")\n",
    "gold_path = f\"abfss://{container}@{account}.dfs.core.windows.net/gold/\"\n"
   ]
  },
  {
   "cell_type": "code",
   "execution_count": 0,
   "metadata": {
    "application/vnd.databricks.v1+cell": {
     "cellMetadata": {
      "byteLimit": 2048000,
      "rowLimit": 10000
     },
     "inputWidgets": {},
     "nuid": "e7139dee-c4d6-4647-af0a-78fad1f6eceb",
     "showTitle": false,
     "tableResultSettingsMap": {},
     "title": ""
    }
   },
   "outputs": [
    {
     "output_type": "stream",
     "name": "stdout",
     "output_type": "stream",
     "text": [
      "+--------------------+--------------------+---------------+--------------------+--------------------+---------------+--------------------+----------------+----------------+--------------------+--------------------+--------------------+------+------------------+\n|                 url|               title|   company_name|         company_url|        applications|         salary|         description|nivel_antiguedad|     tipo_empleo|     funcion_laboral|            sectores|      location_clean|ciudad|Comunidad_Autonoma|\n+--------------------+--------------------+---------------+--------------------+--------------------+---------------+--------------------+----------------+----------------+--------------------+--------------------+--------------------+------+------------------+\n|https://es.linked...|✨Fullstack Develo...|   knowmad mood|https://es.linked...|Sé de los primero...|Sin información|Si cuentas con un...|             Mid|Jornada completa|Gestión de proyectos|Servicios y consu...|              España|España|            España|\n|https://es.linked...|\uD83D\uDCBB Únete como Fro...|   knowmad mood|https://es.linked...|     121 solicitudes|Sin información|Únete a nuestro e...|             Mid|Jornada completa|Ingeniería y Tecn...|Servicios y consu...|Madrid y alrededores|Madrid|            Madrid|\n|https://es.linked...|\uD83D\uDCBB React Native F...|   knowmad mood|https://es.linked...|      76 solicitudes|Sin información|Únete a nuestro e...|             Mid|Jornada completa|Ingeniería y Tecn...|Servicios y consu...|              España|España|            España|\n|https://es.linked...|\uD83D\uDE80 Flutter + Nati...|Decskill España|https://es.linked...|      33 solicitudes|Sin información|Decskill was foun...|             Mid|Jornada completa|Tecnología de la ...|Servicios y consu...|              Málaga|Málaga|         Andalucía|\n|https://es.linked...|\uD83D\uDE80 Flutter + Nati...|Decskill España|https://es.linked...|      42 solicitudes|Sin información|Decskill was foun...|             Mid|Jornada completa|Tecnología de la ...|Servicios y consu...|              Madrid|Madrid|            Madrid|\n+--------------------+--------------------+---------------+--------------------+--------------------+---------------+--------------------+----------------+----------------+--------------------+--------------------+--------------------+------+------------------+\nonly showing top 5 rows\n\n"
     ]
    }
   ],
   "source": [
    "today = datetime.now().strftime(\"%Y-%m-%d\")\n",
    "# today = \"2025-09-04\"\n",
    "plata_path = f\"abfss://{container}@{account}.dfs.core.windows.net/silver/jobs_{today}/\"\n",
    "df_plata = spark.read.format(\"delta\").load(plata_path)\n",
    "df_plata.show(5)\n"
   ]
  },
  {
   "cell_type": "code",
   "execution_count": 0,
   "metadata": {
    "application/vnd.databricks.v1+cell": {
     "cellMetadata": {
      "byteLimit": 2048000,
      "implicitDf": true,
      "rowLimit": 10000
     },
     "inputWidgets": {},
     "nuid": "ed8fd718-9850-4d54-8729-476289092832",
     "showTitle": false,
     "tableResultSettingsMap": {},
     "title": ""
    }
   },
   "outputs": [
    {
     "output_type": "display_data",
     "data": {
      "text/html": [
       "<style scoped>\n",
       "  .table-result-container {\n",
       "    max-height: 300px;\n",
       "    overflow: auto;\n",
       "  }\n",
       "  table, th, td {\n",
       "    border: 1px solid black;\n",
       "    border-collapse: collapse;\n",
       "  }\n",
       "  th, td {\n",
       "    padding: 5px;\n",
       "  }\n",
       "  th {\n",
       "    text-align: left;\n",
       "  }\n",
       "</style><div class='table-result-container'><table class='table-result'><thead style='background-color: white'><tr></tr></thead><tbody></tbody></table></div>"
      ]
     },
     "metadata": {
      "application/vnd.databricks.v1+output": {
       "addedWidgets": {},
       "aggData": [],
       "aggError": "",
       "aggOverflow": false,
       "aggSchema": [],
       "aggSeriesLimitReached": false,
       "aggType": "",
       "arguments": {},
       "columnCustomDisplayInfos": {},
       "data": [],
       "datasetInfos": [],
       "dbfsResultPath": null,
       "isJsonSchema": true,
       "metadata": {
        "dataframeName": null
       },
       "overflow": false,
       "plotOptions": {
        "customPlotOptions": {},
        "displayType": "table",
        "pivotAggregation": null,
        "pivotColumns": null,
        "xColumns": null,
        "yColumns": null
       },
       "removedWidgets": [],
       "schema": [],
       "type": "table"
      }
     },
     "output_type": "display_data"
    }
   ],
   "source": [
    "%sql\n",
    "CREATE DATABASE IF NOT EXISTS gold\n",
    "COMMENT 'Capa Gold - Tablas optimizadas';"
   ]
  },
  {
   "cell_type": "code",
   "execution_count": 0,
   "metadata": {
    "application/vnd.databricks.v1+cell": {
     "cellMetadata": {
      "byteLimit": 2048000,
      "rowLimit": 10000
     },
     "inputWidgets": {},
     "nuid": "c2cac9d5-daac-4e98-92cc-c49d98c5ae45",
     "showTitle": false,
     "tableResultSettingsMap": {},
     "title": ""
    }
   },
   "outputs": [],
   "source": [
    "from pyspark.sql.functions import current_date, monotonically_increasing_id\n",
    "\n",
    "# Dimensión Empresa\n",
    "dim_empresa = df_plata.select(\"company_name\", \"company_url\").distinct() \\\n",
    "    .withColumn(\"empresa_id\", monotonically_increasing_id())\n",
    "\n",
    "# Dimensión Ciudad\n",
    "dim_ciudad = df_plata.select(\"ciudad\", \"Comunidad_Autonoma\").distinct() \\\n",
    "    .withColumn(\"ciudad_id\", monotonically_increasing_id())\n",
    "\n",
    "# Dimensión Empleo\n",
    "dim_empleo = df_plata.select(\"tipo_empleo\", \"nivel_antiguedad\", \"funcion_laboral\", \"sectores\").distinct() \\\n",
    "    .withColumn(\"empleo_id\", monotonically_increasing_id())\n",
    "\n",
    "# Hechos (fact table) con snapshot\n",
    "fact_ofertas = df_plata.join(dim_empresa, \"company_name\") \\\n",
    "    .join(dim_ciudad, \"ciudad\") \\\n",
    "    .join(dim_empleo, [\"tipo_empleo\", \"nivel_antiguedad\", \"funcion_laboral\", \"sectores\"]) \\\n",
    "    .select(\n",
    "        \"url\", \"applications\", \"salary\", \n",
    "        \"empresa_id\", \"ciudad_id\", \"empleo_id\"\n",
    "    ) \\\n",
    "    .withColumn(\"fecha_snapshot\", current_date())"
   ]
  },
  {
   "cell_type": "code",
   "execution_count": 0,
   "metadata": {
    "application/vnd.databricks.v1+cell": {
     "cellMetadata": {
      "byteLimit": 2048000,
      "rowLimit": 10000
     },
     "inputWidgets": {},
     "nuid": "603471c9-b342-4929-a3d8-a84863371521",
     "showTitle": false,
     "tableResultSettingsMap": {},
     "title": ""
    }
   },
   "outputs": [],
   "source": [
    "# Dimensiones (se pueden sobrescribir porque cambian poco)\n",
    "dim_empresa.write.format(\"delta\").mode(\"overwrite\").save(gold_path + \"dim_empresa\")\n",
    "dim_ciudad.write.format(\"delta\").mode(\"overwrite\").save(gold_path + \"dim_ciudad\")\n",
    "dim_empleo.write.format(\"delta\").mode(\"overwrite\").save(gold_path + \"dim_empleo\")\n",
    "\n",
    "# Hechos -> modo append para guardar histórico diario\n",
    "fact_ofertas.write.format(\"delta\").mode(\"append\").save(gold_path + \"fact_ofertas_historico\")\n",
    "\n",
    "# Tabla única combinando todo\n",
    "fact_ofertas_full = df_plata.select(\n",
    "    \"url\", \"applications\", \"salary\", \n",
    "    \"company_name\", \"company_url\",\n",
    "    \"ciudad\", \"Comunidad_Autonoma\",\n",
    "    \"tipo_empleo\", \"nivel_antiguedad\", \"funcion_laboral\", \"sectores\"\n",
    ")\n",
    "\n",
    "fact_ofertas_full.write.format(\"delta\").mode(\"overwrite\").save(gold_path + \"fact_ofertas_full\")"
   ]
  },
  {
   "cell_type": "code",
   "execution_count": 0,
   "metadata": {
    "application/vnd.databricks.v1+cell": {
     "cellMetadata": {
      "byteLimit": 2048000,
      "rowLimit": 10000
     },
     "inputWidgets": {},
     "nuid": "a40a4577-b598-402e-a4ff-42d6ccddadd7",
     "showTitle": false,
     "tableResultSettingsMap": {},
     "title": ""
    }
   },
   "outputs": [],
   "source": [
    "fact_ofertas.write.format(\"delta\").mode(\"append\").saveAsTable(\"gold.fact_ofertas_historico\")\n",
    "fact_ofertas_full.write.format(\"delta\").mode(\"append\").saveAsTable(\"gold.fact_ofertas_full\")\n",
    "dim_empresa.write.format(\"delta\").mode(\"overwrite\").saveAsTable(\"gold.dim_empresa\")\n",
    "dim_ciudad.write.format(\"delta\").mode(\"overwrite\").saveAsTable(\"gold.dim_ciudad\")\n",
    "dim_empleo.write.format(\"delta\").mode(\"overwrite\").saveAsTable(\"gold.dim_empleo\")"
   ]
  },
  {
   "cell_type": "code",
   "execution_count": 0,
   "metadata": {
    "application/vnd.databricks.v1+cell": {
     "cellMetadata": {
      "byteLimit": 2048000,
      "rowLimit": 10000
     },
     "inputWidgets": {},
     "nuid": "df231f01-5db0-4105-bc1d-f6d6a8ca0ea0",
     "showTitle": false,
     "tableResultSettingsMap": {},
     "title": ""
    }
   },
   "outputs": [],
   "source": []
  }
 ],
 "metadata": {
  "application/vnd.databricks.v1+notebook": {
   "computePreferences": null,
   "dashboards": [],
   "environmentMetadata": {
    "base_environment": "",
    "environment_version": "3"
   },
   "inputWidgetPreferences": null,
   "language": "python",
   "notebookMetadata": {
    "mostRecentlyExecutedCommandWithImplicitDF": {
     "commandId": 8996570646273373,
     "dataframes": [
      "_sqldf"
     ]
    },
    "pythonIndentUnit": 4
   },
   "notebookName": "03-gold",
   "widgets": {}
  },
  "language_info": {
   "name": "python"
  }
 },
 "nbformat": 4,
 "nbformat_minor": 0
}