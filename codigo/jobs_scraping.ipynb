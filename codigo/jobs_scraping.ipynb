{
 "cells": [
  {
   "cell_type": "code",
   "execution_count": 0,
   "metadata": {
    "application/vnd.databricks.v1+cell": {
     "cellMetadata": {
      "byteLimit": 2048000,
      "rowLimit": 10000
     },
     "inputWidgets": {},
     "nuid": "648f117f-eed6-466f-baba-3dd28f361bb4",
     "showTitle": false,
     "tableResultSettingsMap": {},
     "title": ""
    }
   },
   "outputs": [
    {
     "output_type": "stream",
     "name": "stdout",
     "output_type": "stream",
     "text": [
      "Collecting beautifulsoup4\n  Obtaining dependency information for beautifulsoup4 from https://files.pythonhosted.org/packages/04/eb/f4151e0c7377a6e08a38108609ba5cede57986802757848688aeedd1b9e8/beautifulsoup4-4.13.5-py3-none-any.whl.metadata\n  Downloading beautifulsoup4-4.13.5-py3-none-any.whl.metadata (3.8 kB)\nCollecting soupsieve>1.2 (from beautifulsoup4)\n  Obtaining dependency information for soupsieve>1.2 from https://files.pythonhosted.org/packages/14/a0/bb38d3b76b8cae341dad93a2dd83ab7462e6dbcdd84d43f54ee60a8dc167/soupsieve-2.8-py3-none-any.whl.metadata\n  Downloading soupsieve-2.8-py3-none-any.whl.metadata (4.6 kB)\nRequirement already satisfied: typing-extensions>=4.0.0 in /databricks/python3/lib/python3.11/site-packages (from beautifulsoup4) (4.10.0)\nDownloading beautifulsoup4-4.13.5-py3-none-any.whl (105 kB)\n\u001B[?25l   \u001B[90m━━━━━━━━━━━━━━━━━━━━━━━━━━━━━━━━━━━━━━━━\u001B[0m \u001B[32m0.0/105.1 kB\u001B[0m \u001B[31m?\u001B[0m eta \u001B[36m-:--:--\u001B[0m\n\u001B[2K   \u001B[91m━━━━━━━━━━━━━━━━━━━━━━━━━━━━━━━━━━━━━━\u001B[0m\u001B[91m╸\u001B[0m\u001B[90m━\u001B[0m \u001B[32m102.4/105.1 kB\u001B[0m \u001B[31m3.8 MB/s\u001B[0m eta \u001B[36m0:00:01\u001B[0m\n\u001B[2K   \u001B[91m━━━━━━━━━━━━━━━━━━━━━━━━━━━━━━━━━━━━━━\u001B[0m\u001B[91m╸\u001B[0m\u001B[90m━\u001B[0m \u001B[32m102.4/105.1 kB\u001B[0m \u001B[31m3.8 MB/s\u001B[0m eta \u001B[36m0:00:01\u001B[0m\n\u001B[2K   \u001B[91m━━━━━━━━━━━━━━━━━━━━━━━━━━━━━━━━━━━━━━\u001B[0m\u001B[91m╸\u001B[0m\u001B[90m━\u001B[0m \u001B[32m102.4/105.1 kB\u001B[0m \u001B[31m3.8 MB/s\u001B[0m eta \u001B[36m0:00:01\u001B[0m\n\u001B[2K   \u001B[90m━━━━━━━━━━━━━━━━━━━━━━━━━━━━━━━━━━━━━━━\u001B[0m \u001B[32m105.1/105.1 kB\u001B[0m \u001B[31m786.9 kB/s\u001B[0m eta \u001B[36m0:00:00\u001B[0m\n\u001B[?25hDownloading soupsieve-2.8-py3-none-any.whl (36 kB)\nInstalling collected packages: soupsieve, beautifulsoup4\nSuccessfully installed beautifulsoup4-4.13.5 soupsieve-2.8\n\u001B[43mNote: you may need to restart the kernel using %restart_python or dbutils.library.restartPython() to use updated packages.\u001B[0m\n"
     ]
    }
   ],
   "source": [
    "%pip install beautifulsoup4"
   ]
  },
  {
   "cell_type": "code",
   "execution_count": 0,
   "metadata": {
    "application/vnd.databricks.v1+cell": {
     "cellMetadata": {
      "byteLimit": 2048000,
      "rowLimit": 10000
     },
     "inputWidgets": {},
     "nuid": "0f45fb63-ed8b-4637-be38-14c2e42ce826",
     "showTitle": false,
     "tableResultSettingsMap": {},
     "title": ""
    },
    "id": "nzSkJ8EnBMGw"
   },
   "outputs": [],
   "source": [
    "from bs4 import BeautifulSoup\n",
    "import requests\n",
    "import csv\n",
    "import time\n",
    "from datetime import datetime"
   ]
  },
  {
   "cell_type": "code",
   "execution_count": 0,
   "metadata": {
    "application/vnd.databricks.v1+cell": {
     "cellMetadata": {
      "byteLimit": 2048000,
      "rowLimit": 10000
     },
     "inputWidgets": {},
     "nuid": "447b15b8-bbfb-43cb-aa05-8db2e4d79da7",
     "showTitle": false,
     "tableResultSettingsMap": {},
     "title": ""
    },
    "colab": {
     "base_uri": "https://localhost:8080/"
    },
    "id": "kVVuUYxrBeQ1",
    "outputId": "4146a95b-f640-440f-db9b-1230e38b130e"
   },
   "outputs": [
    {
     "output_type": "execute_result",
     "data": {
      "text/plain": [
       "['Andalucía',\n",
       " 'Aragon',\n",
       " 'Asturias',\n",
       " 'Baleares',\n",
       " 'Las Palmas, Canarias, España',\n",
       " 'Cantabria',\n",
       " 'Castilla-La Mancha',\n",
       " 'Castilla y León',\n",
       " 'Barcelona',\n",
       " 'Comunidad Valenciana',\n",
       " 'Extremadura',\n",
       " 'Galicia',\n",
       " 'Madrid',\n",
       " 'Murcia',\n",
       " 'Navarra',\n",
       " 'Euskadi',\n",
       " 'La Rioja, La Rioja, España']"
      ]
     },
     "execution_count": 3,
     "metadata": {},
     "output_type": "execute_result"
    }
   ],
   "source": [
    "# Lista de comunidades autónomas de España\n",
    "comunidades = [\n",
    "    \"Andalucía\", \"Aragon\", \"Asturias\", \"Baleares\", \"Las Palmas, Canarias, España\",\n",
    "    \"Cantabria\", \"Castilla-La Mancha\", \"Castilla y León\", \"Barcelona\",\n",
    "    \"Comunidad Valenciana\", \"Extremadura\", \"Galicia\", \"Madrid\",\n",
    "    \"Murcia\", \"Navarra\", \"Euskadi\", \"La Rioja, La Rioja, España\"\n",
    "]\n",
    "\n",
    "comunidades\n",
    "\n"
   ]
  },
  {
   "cell_type": "code",
   "execution_count": 0,
   "metadata": {
    "application/vnd.databricks.v1+cell": {
     "cellMetadata": {
      "byteLimit": 2048000,
      "rowLimit": 10000
     },
     "inputWidgets": {},
     "nuid": "bb08b2a3-0d8e-4897-a8f7-6f5955f1c4d5",
     "showTitle": false,
     "tableResultSettingsMap": {},
     "title": ""
    },
    "id": "nYNTnG1LBsly"
   },
   "outputs": [],
   "source": [
    "def retrieve_job_urls(base_url, max_retries=3):\n",
    "    job_urls = []\n",
    "    start = 0\n",
    "\n",
    "    while True:\n",
    "        url = f\"{base_url}&start={start}\"\n",
    "        print(f\"\uD83D\uDD0E Scraping page: {url} ...\")\n",
    "\n",
    "        retries = 0\n",
    "        response = None\n",
    "\n",
    "        while retries < max_retries:\n",
    "            try:\n",
    "                response = requests.get(url, timeout=10)\n",
    "                if response.status_code == 200:\n",
    "                    break\n",
    "                else:\n",
    "                    print(f\"⚠️ Error {response.status_code}, reintento {retries+1}/{max_retries}\")\n",
    "            except requests.RequestException as e:\n",
    "                print(f\"⚠️ Error de red: {e}, reintento {retries+1}/{max_retries}\")\n",
    "\n",
    "            retries += 1\n",
    "            time.sleep(2)\n",
    "\n",
    "        if not response or response.status_code != 200:\n",
    "            print(f\"❌ No se pudo acceder a {url} después de {max_retries} intentos.\")\n",
    "            break\n",
    "\n",
    "        html = response.text.strip()\n",
    "        if not html:\n",
    "            print(\"✅ No hay más resultados, paro aquí.\")\n",
    "            break\n",
    "\n",
    "        soup = BeautifulSoup(html, \"html.parser\")\n",
    "        job_url_elements = soup.select(\"a.base-card__full-link\")\n",
    "\n",
    "        if not job_url_elements:\n",
    "            print(\"✅ No se encontraron más ofertas en esta página.\")\n",
    "            break\n",
    "\n",
    "        for job_url_element in job_url_elements:\n",
    "            job_url = job_url_element[\"href\"]\n",
    "            job_urls.append(job_url)\n",
    "\n",
    "        start += 10\n",
    "        time.sleep(1)\n",
    "\n",
    "    return list(set(job_urls))"
   ]
  },
  {
   "cell_type": "code",
   "execution_count": 0,
   "metadata": {
    "application/vnd.databricks.v1+cell": {
     "cellMetadata": {
      "byteLimit": 2048000,
      "rowLimit": 10000
     },
     "inputWidgets": {},
     "nuid": "9dd5d544-e38d-4c6e-b124-babe47d68e11",
     "showTitle": false,
     "tableResultSettingsMap": {},
     "title": ""
    },
    "id": "qRj7Tl_NBz7A"
   },
   "outputs": [],
   "source": [
    "def scrape_job(job_url, max_retries=3):\n",
    "    retries = 0\n",
    "    response = None\n",
    "\n",
    "    while retries < max_retries:\n",
    "        try:\n",
    "            response = requests.get(job_url, timeout=10)\n",
    "            if response.status_code == 200:\n",
    "                break\n",
    "            else:\n",
    "                print(f\"⚠️ Error {response.status_code} en {job_url}, reintento {retries+1}/{max_retries}\")\n",
    "        except requests.RequestException as e:\n",
    "            print(f\"⚠️ Error de red en {job_url}: {e}, reintento {retries+1}/{max_retries}\")\n",
    "\n",
    "        retries += 1\n",
    "        time.sleep(2)\n",
    "\n",
    "    if not response or response.status_code != 200:\n",
    "        print(f\"❌ No se pudo acceder a {job_url} después de {max_retries} intentos.\")\n",
    "        return None\n",
    "\n",
    "    html = response.text\n",
    "    soup = BeautifulSoup(html, \"html.parser\")\n",
    "\n",
    "    title_element = soup.select_one(\"h1\")\n",
    "    title = title_element.get_text().strip() if title_element else None\n",
    "\n",
    "    company_element = soup.select_one('[data-tracking-control-name=\"public_jobs_topcard-org-name\"]')\n",
    "    company_name = company_element.get_text().strip() if company_element else None\n",
    "    company_url = company_element[\"href\"] if company_element and company_element.has_attr(\"href\") else None\n",
    "\n",
    "    location_element = soup.select_one(\".topcard__flavor--bullet\")\n",
    "    location = location_element.get_text().strip() if location_element else None\n",
    "\n",
    "    applicants_element = soup.select_one(\".num-applicants__caption\")\n",
    "    applicants = applicants_element.get_text().strip() if applicants_element else None\n",
    "\n",
    "    salary_element = soup.select_one(\".salary\")\n",
    "    salary = salary_element.get_text().strip() if salary_element else None\n",
    "\n",
    "    description_element = soup.select_one(\".description__text .show-more-less-html\")\n",
    "    description = description_element.get_text().strip() if description_element else None\n",
    "\n",
    "    # Seleccionamos todos los <li> que contienen los criterios\n",
    "    criteria_items = soup.select(\".description__job-criteria-item\")\n",
    "    criteria_dict = {}\n",
    "\n",
    "    # Mapeo de campos\n",
    "    field_map = {\n",
    "        \"Seniority level\": \"Nivel de antigüedad\",\n",
    "        \"Employment type\": \"Tipo de empleo\",\n",
    "        \"Job function\": \"Función laboral\",\n",
    "        \"Industries\": \"Sectores\",\n",
    "    }\n",
    "\n",
    "    for item in criteria_items:\n",
    "        name_element = item.select_one(\".description__job-criteria-subheader\")\n",
    "        value_element = item.select_one(\".description__job-criteria-text--criteria\")\n",
    "        if name_element and value_element:\n",
    "            raw_key = name_element.get_text().strip()\n",
    "            value = value_element.get_text().strip()\n",
    "\n",
    "            # Normalizamos usando el map\n",
    "            key = field_map.get(raw_key, raw_key)\n",
    "            criteria_dict[key] = value\n",
    "            print(f\"\uD83D\uDD0D {key}: {value}\")\n",
    "\n",
    "    # Ahora criteria_dict tendrá todos los campos\n",
    "\n",
    "    # Construcción final del job\n",
    "    job = {\n",
    "        \"url\": job_url,\n",
    "        \"title\": title,\n",
    "        \"company_name\": company_name,\n",
    "        \"company_url\": company_url,\n",
    "        \"location\": location,\n",
    "        \"applications\": applicants,\n",
    "        \"salary\": salary,\n",
    "        \"description\": description,\n",
    "        \"Nivel de antigüedad\": criteria_dict.get(\"Nivel de antigüedad\"),\n",
    "        \"Tipo de empleo\": criteria_dict.get(\"Tipo de empleo\"),\n",
    "        \"Función laboral\": criteria_dict.get(\"Función laboral\"),\n",
    "        \"Sectores\": criteria_dict.get(\"Sectores\")\n",
    "    }\n",
    "    return job\n"
   ]
  },
  {
   "cell_type": "code",
   "execution_count": 0,
   "metadata": {
    "application/vnd.databricks.v1+cell": {
     "cellMetadata": {
      "byteLimit": 2048000,
      "rowLimit": 10000
     },
     "inputWidgets": {},
     "nuid": "d1776589-a1f0-4d2d-be7e-5292aacb626e",
     "showTitle": false,
     "tableResultSettingsMap": {},
     "title": ""
    },
    "id": "OryZwjYHGCR3"
   },
   "outputs": [],
   "source": [
    "# Lista de comunidades autónomas de España\n",
    "comunidades = [\n",
    "    \"Andalucía\", \"Aragon\", \"Asturias\", \"Baleares\", \"Las Palmas, Canarias, España\",\n",
    "    \"Cantabria\", \"Castilla-La Mancha\", \"Castilla y León\", \"Barcelona\",\n",
    "    \"Comunidad Valenciana\", \"Extremadura\", \"Galicia\", \"Madrid\",\n",
    "    \"Murcia\", \"Navarra\", \"Euskadi\", \"La Rioja, La Rioja, España\"\n",
    "]\n",
    "\n",
    "# comunidades = [\n",
    "#     \"Murcia\", \"Navarra\",\n",
    "# ]\n"
   ]
  },
  {
   "cell_type": "code",
   "execution_count": 0,
   "metadata": {
    "application/vnd.databricks.v1+cell": {
     "cellMetadata": {},
     "inputWidgets": {},
     "nuid": "6319eaf5-f554-4ad4-b791-938b2e8d5ac8",
     "showTitle": false,
     "tableResultSettingsMap": {},
     "title": ""
    }
   },
   "outputs": [],
   "source": [
    "from urllib.parse import quote, unquote\n",
    "tipo_publicacion = dbutils.widgets.get(\"tipo_publicacion\")\n",
    "empleo = dbutils.widgets.get(\"empleo\")\n",
    "empleo = quote(empleo)\n",
    "\n",
    "print(tipo_publicacion)\n",
    "print(empleo)"
   ]
  },
  {
   "cell_type": "code",
   "execution_count": 0,
   "metadata": {
    "application/vnd.databricks.v1+cell": {
     "cellMetadata": {
      "byteLimit": 2048000,
      "rowLimit": 10000
     },
     "inputWidgets": {},
     "nuid": "2c8741e4-063f-4059-8317-4718773533d5",
     "showTitle": false,
     "tableResultSettingsMap": {},
     "title": ""
    },
    "colab": {
     "base_uri": "https://localhost:8080/",
     "height": 1000
    },
    "id": "YJeEBcOxBwo1",
    "outputId": "311750b5-2b3a-4af3-cf1d-5128206916b0"
   },
   "outputs": [
    {
     "output_type": "stream",
     "name": "stdout",
     "output_type": "stream",
     "text": [
      "\n\uD83C\uDF0D Buscando ofertas en Andalucía...\n\n\uD83D\uDD0E Scraping page: https://www.linkedin.com/jobs-guest/jobs/api/seeMoreJobPostings/search?keywords=Data%20Scientist&location=Andalucía&f_TPR=r86400&trk=public_jobs_jobs-search-bar_search-submit&start=0 ...\n\uD83D\uDD0E Scraping page: https://www.linkedin.com/jobs-guest/jobs/api/seeMoreJobPostings/search?keywords=Data%20Scientist&location=Andalucía&f_TPR=r86400&trk=public_jobs_jobs-search-bar_search-submit&start=10 ...\n\uD83D\uDD0E Scraping page: https://www.linkedin.com/jobs-guest/jobs/api/seeMoreJobPostings/search?keywords=Data%20Scientist&location=Andalucía&f_TPR=r86400&trk=public_jobs_jobs-search-bar_search-submit&start=20 ...\n\uD83D\uDD0E Scraping page: https://www.linkedin.com/jobs-guest/jobs/api/seeMoreJobPostings/search?keywords=Data%20Scientist&location=Andalucía&f_TPR=r86400&trk=public_jobs_jobs-search-bar_search-submit&start=30 ...\n\uD83D\uDD0E Scraping page: https://www.linkedin.com/jobs-guest/jobs/api/seeMoreJobPostings/search?keywords=Data%20Scientist&location=Andalucía&f_TPR=r86400&trk=public_jobs_jobs-search-bar_search-submit&start=40 ...\n✅ No se encontraron más ofertas en esta página.\n✅ 38 ofertas encontradas en Andalucía\n\n➡️ Scraping https://es.linkedin.com/jobs/view/security-engineer-ms-defender-at-concentrix-4271711273?position=1&pageNum=2&refId=YaDdEN1r9NmB97mZymtqQw%3D%3D&trackingId=xpIA%2Bw3OPfCyH3GFntsJfA%3D%3D\n\uD83D\uDD0D Nivel de antigüedad: Intermedio\n\uD83D\uDD0D Tipo de empleo: Jornada completa\n\uD83D\uDD0D Función laboral: Tecnología de la información\n\uD83D\uDD0D Sectores: Servicios y consultoría de TI\n✅ Job scraped\n\n➡️ Scraping https://es.linkedin.com/jobs/view/senior-cloud-first-data-engineer-at-glencore-4195079699?position=1&pageNum=3&refId=qmLhXMexVWQTj3RfyENc7Q%3D%3D&trackingId=ogtmq62ysDZGSDGIkskTRA%3D%3D\n\uD83D\uDD0D Nivel de antigüedad: Intermedio\n\uD83D\uDD0D Tipo de empleo: Jornada completa\n\uD83D\uDD0D Función laboral: Tecnología de la información\n\uD83D\uDD0D Sectores: Minería\n✅ Job scraped\n\n➡️ Scraping https://es.linkedin.com/jobs/view/java-react-software-developer-100%25-remoto-at-knowmad-mood-4294447048?position=3&pageNum=0&refId=%2FHeaL1Ine1LHKT61MFlU1Q%3D%3D&trackingId=Z3qiFqXNs9WEcoMFA9A%2B5Q%3D%3D\n\uD83D\uDD0D Nivel de antigüedad: Intermedio\n\uD83D\uDD0D Tipo de empleo: Jornada completa\n\uD83D\uDD0D Función laboral: Tecnología de la información\n\uD83D\uDD0D Sectores: Servicios y consultoría de TI\n✅ Job scraped\n\n➡️ Scraping https://es.linkedin.com/jobs/view/programador-a-full-stack-react-node-%E2%82%AC20k-%E2%82%AC27k-at-joppy-4297184254?position=7&pageNum=0&refId=%2FHeaL1Ine1LHKT61MFlU1Q%3D%3D&trackingId=O4pXbwodvJMKu8HjhAvV8g%3D%3D\n\uD83D\uDD0D Nivel de antigüedad: Algo de responsabilidad\n\uD83D\uDD0D Tipo de empleo: Jornada completa\n\uD83D\uDD0D Función laboral: Tecnología de la información\n\uD83D\uDD0D Sectores: Tecnología, información e internet\n✅ Job scraped\n\n➡️ Scraping https://es.linkedin.com/jobs/view/analista-de-datos-anal%C3%ADtica-digital-data-eng-mgmt-governance-sr-analyst-at-accenture-espa%C3%B1a-4297306589?position=4&pageNum=3&refId=qmLhXMexVWQTj3RfyENc7Q%3D%3D&trackingId=gh1eUh9LxQYvgmTSiHhlDQ%3D%3D\n\uD83D\uDD0D Nivel de antigüedad: Intermedio\n\uD83D\uDD0D Tipo de empleo: Jornada completa\n\uD83D\uDD0D Función laboral: Tecnología de la información\n\uD83D\uDD0D Sectores: Consultoría y servicios a empresas\n✅ Job scraped\n\n➡️ Scraping https://es.linkedin.com/jobs/view/big-data-developer-at-wehunt-espa%C3%B1a-4297572280?position=1&pageNum=0&refId=%2FHeaL1Ine1LHKT61MFlU1Q%3D%3D&trackingId=PdpMVHzc6%2BM8saV%2BPxpzVA%3D%3D\n\uD83D\uDD0D Nivel de antigüedad: Intermedio\n\uD83D\uDD0D Tipo de empleo: Jornada completa\n\uD83D\uDD0D Función laboral: Tecnología de la información\n\uD83D\uDD0D Sectores: Servicios de recursos humanos\n✅ Job scraped\n\n➡️ Scraping https://es.linkedin.com/jobs/view/middleware-engineer-at-cipex-consejo-de-ingenieros-peruanos-en-el-exterior-4297199706?position=3&pageNum=2&refId=YaDdEN1r9NmB97mZymtqQw%3D%3D&trackingId=nyTYhbEaHI0LZ7VzuNzBqg%3D%3D\n\uD83D\uDD0D Nivel de antigüedad: Intermedio\n\uD83D\uDD0D Tipo de empleo: Contrato por obra\n\uD83D\uDD0D Función laboral: Tecnología de la información\n\uD83D\uDD0D Sectores: Fabricación de productos lácteos\n✅ Job scraped\n\n➡️ Scraping https://es.linkedin.com/jobs/view/senior-sap-abap-developer-at-epam-systems-4295553560?position=5&pageNum=3&refId=qmLhXMexVWQTj3RfyENc7Q%3D%3D&trackingId=q7frpuQ3S3z4AFTze%2BA8zA%3D%3D\n\uD83D\uDD0D Nivel de antigüedad: Intermedio\n\uD83D\uDD0D Tipo de empleo: Jornada completa\n\uD83D\uDD0D Función laboral: Tecnología de la información, Ingeniería y Desarrollo empresarial\n\uD83D\uDD0D Sectores: Desarrollo de software y Servicios y consultoría de TI\n✅ Job scraped\n\n➡️ Scraping https://es.linkedin.com/jobs/view/test-automation-engineer-at-ntt-data-europe-latam-4287887365?position=2&pageNum=0&refId=%2FHeaL1Ine1LHKT61MFlU1Q%3D%3D&trackingId=KsKgPHIrnozIomAAQ6oREA%3D%3D\n\uD83D\uDD0D Nivel de antigüedad: Algo de responsabilidad\n\uD83D\uDD0D Tipo de empleo: Jornada completa\n\uD83D\uDD0D Función laboral: Tecnología de la información\n\uD83D\uDD0D Sectores: Servicios y consultoría de TI\n✅ Job scraped\n\n➡️ Scraping https://es.linkedin.com/jobs/view/senior-java-software-engineer-at-rindus-4290726671?position=4&pageNum=1&refId=MVxbgCt19so1laXG5FKQIQ%3D%3D&trackingId=caGBUvI6IDFwvXxJxM08gw%3D%3D\n\uD83D\uDD0D Nivel de antigüedad: Intermedio\n\uD83D\uDD0D Tipo de empleo: Jornada completa\n\uD83D\uDD0D Función laboral: Ingeniería, Consultoría y Tecnología de la información\n\uD83D\uDD0D Sectores: Servicios y consultoría de TI, Desarrollo de software y Desarrollo de software personalizado de sistemas de TI\n✅ Job scraped\n\n➡️ Scraping https://es.linkedin.com/jobs/view/senior-software-engineer-at-wehunt-espa%C3%B1a-4297166680?position=8&pageNum=0&refId=%2FHeaL1Ine1LHKT61MFlU1Q%3D%3D&trackingId=oSi%2BqUY6VaNyP52uryIHyg%3D%3D\n\uD83D\uDD0D Nivel de antigüedad: Intermedio\n\uD83D\uDD0D Tipo de empleo: Jornada completa\n\uD83D\uDD0D Función laboral: Tecnología de la información\n\uD83D\uDD0D Sectores: Servicios de recursos humanos\n✅ Job scraped\n\n➡️ Scraping https://es.linkedin.com/jobs/view/backend-net-software-engineer-gaming-at-betsson-group-4276961956?position=8&pageNum=2&refId=YaDdEN1r9NmB97mZymtqQw%3D%3D&trackingId=fktNoVwcyTsg6QYGkQ2c4g%3D%3D\n\uD83D\uDD0D Nivel de antigüedad: No corresponde\n\uD83D\uDD0D Tipo de empleo: Jornada completa\n\uD83D\uDD0D Función laboral: Ingeniería y Tecnología de la información\n\uD83D\uDD0D Sectores: Tecnología, información e internet\n✅ Job scraped\n\n➡️ Scraping https://es.linkedin.com/jobs/view/programador-a-junior-sector-financiero-at-grupo-tecdata-engineering-4297144932?position=6&pageNum=0&refId=%2FHeaL1Ine1LHKT61MFlU1Q%3D%3D&trackingId=TlPB0dtudUDrrGPf8rpMDg%3D%3D\n\uD83D\uDD0D Nivel de antigüedad: Sin experiencia\n\uD83D\uDD0D Tipo de empleo: Jornada completa\n\uD83D\uDD0D Función laboral: Ingeniería y Tecnología de la información\n\uD83D\uDD0D Sectores: Servicios y consultoría de TI\n✅ Job scraped\n\n➡️ Scraping https://es.linkedin.com/jobs/view/data-engineer-junior-at-farmaciasdirect-4297581629?position=5&pageNum=0&refId=%2FHeaL1Ine1LHKT61MFlU1Q%3D%3D&trackingId=tMUbdAywbcr2Yf33%2Bv7VMQ%3D%3D\n\uD83D\uDD0D Nivel de antigüedad: Prácticas\n\uD83D\uDD0D Tipo de empleo: Jornada completa\n\uD83D\uDD0D Función laboral: Tecnología de la información\n\uD83D\uDD0D Sectores: Comercio al por mayor de productos farmacéuticos y artículos diversos\n✅ Job scraped\n\n➡️ Scraping https://es.linkedin.com/jobs/view/senior-sap-abap-developer-at-epam-systems-4295552577?position=6&pageNum=3&refId=qmLhXMexVWQTj3RfyENc7Q%3D%3D&trackingId=FRccK%2Fa1tSyZNj%2BMcEA%2B4A%3D%3D\n\uD83D\uDD0D Nivel de antigüedad: Intermedio\n\uD83D\uDD0D Tipo de empleo: Jornada completa\n\uD83D\uDD0D Función laboral: Tecnología de la información, Ingeniería y Desarrollo empresarial\n\uD83D\uDD0D Sectores: Desarrollo de software y Servicios y consultoría de TI\n✅ Job scraped\n\n➡️ Scraping https://es.linkedin.com/jobs/view/middleware-engineer-at-cipex-consejo-de-ingenieros-peruanos-en-el-exterior-4297302597?position=8&pageNum=1&refId=MVxbgCt19so1laXG5FKQIQ%3D%3D&trackingId=T%2BsVxZAXutKMVtWL3SK7zA%3D%3D\n⚠️ Error 429 en https://es.linkedin.com/jobs/view/middleware-engineer-at-cipex-consejo-de-ingenieros-peruanos-en-el-exterior-4297302597?position=8&pageNum=1&refId=MVxbgCt19so1laXG5FKQIQ%3D%3D&trackingId=T%2BsVxZAXutKMVtWL3SK7zA%3D%3D, reintento 1/3\n⚠️ Error 429 en https://es.linkedin.com/jobs/view/middleware-engineer-at-cipex-consejo-de-ingenieros-peruanos-en-el-exterior-4297302597?position=8&pageNum=1&refId=MVxbgCt19so1laXG5FKQIQ%3D%3D&trackingId=T%2BsVxZAXutKMVtWL3SK7zA%3D%3D, reintento 2/3\n\uD83D\uDD0D Nivel de antigüedad: Intermedio\n\uD83D\uDD0D Tipo de empleo: Contrato por obra\n\uD83D\uDD0D Función laboral: Tecnología de la información\n\uD83D\uDD0D Sectores: Importación y exportación al por mayor\n✅ Job scraped\n\n➡️ Scraping https://es.linkedin.com/jobs/view/desarrollador-de-net-at-randstad-digital-espa%C3%B1a-4295530896?position=7&pageNum=2&refId=YaDdEN1r9NmB97mZymtqQw%3D%3D&trackingId=ju6eDiYNskZQBD6lhKQPiQ%3D%3D\n\uD83D\uDD0D Nivel de antigüedad: Algo de responsabilidad\n\uD83D\uDD0D Tipo de empleo: Jornada completa\n\uD83D\uDD0D Función laboral: Gestión, Gestión de proyectos y Tecnología de la información\n\uD83D\uDD0D Sectores: Servicios y consultoría de TI y Tecnología, información y medios de comunicación\n✅ Job scraped\n\n➡️ Scraping https://es.linkedin.com/jobs/view/react-developer-con-experiencia-en-shopify-hydrogen-at-farmaciasdirect-4297593378?position=9&pageNum=0&refId=%2FHeaL1Ine1LHKT61MFlU1Q%3D%3D&trackingId=wWBmfqA5mmEePRYpLz2%2BtQ%3D%3D\n\uD83D\uDD0D Nivel de antigüedad: Sin experiencia\n\uD83D\uDD0D Tipo de empleo: Jornada completa\n\uD83D\uDD0D Función laboral: Ingeniería y Tecnología de la información\n\uD83D\uDD0D Sectores: Comercio al por mayor de productos farmacéuticos y artículos diversos\n✅ Job scraped\n\n➡️ Scraping https://es.linkedin.com/jobs/view/senior-sap-abap-developer-at-epam-systems-4295560577?position=8&pageNum=3&refId=qmLhXMexVWQTj3RfyENc7Q%3D%3D&trackingId=sS%2F9T%2BDxQ4ozSqygX6AmzA%3D%3D\n\uD83D\uDD0D Nivel de antigüedad: Intermedio\n\uD83D\uDD0D Tipo de empleo: Jornada completa\n\uD83D\uDD0D Función laboral: Tecnología de la información, Ingeniería y Desarrollo empresarial\n\uD83D\uDD0D Sectores: Desarrollo de software y Servicios y consultoría de TI\n✅ Job scraped\n\n➡️ Scraping https://es.linkedin.com/jobs/view/back-end-developer-at-multisafepay-4295598678?position=3&pageNum=1&refId=MVxbgCt19so1laXG5FKQIQ%3D%3D&trackingId=pHLkpMNC2ka8ATJt6NkJWw%3D%3D\n\uD83D\uDD0D Nivel de antigüedad: Sin experiencia\n\uD83D\uDD0D Tipo de empleo: Jornada completa\n\uD83D\uDD0D Función laboral: Ingeniería y Tecnología de la información\n\uD83D\uDD0D Sectores: Servicios financieros\n✅ Job scraped\n\n➡️ Scraping https://es.linkedin.com/jobs/view/desarrollador-java-y-web-at-lector-gesvi-3687676401?position=1&pageNum=1&refId=MVxbgCt19so1laXG5FKQIQ%3D%3D&trackingId=SvHjgTefRU5%2FJMjMiHU1lw%3D%3D\n\uD83D\uDD0D Nivel de antigüedad: Sin experiencia\n\uD83D\uDD0D Tipo de empleo: Jornada completa\n\uD83D\uDD0D Sectores: Consultoría y servicios a empresas\n✅ Job scraped\n\n➡️ Scraping https://es.linkedin.com/jobs/view/senior-angular-software-engineer-at-rindus-4291113641?position=3&pageNum=3&refId=qmLhXMexVWQTj3RfyENc7Q%3D%3D&trackingId=ORFYcRgDtrmEczaXka3ODA%3D%3D\n\uD83D\uDD0D Nivel de antigüedad: Intermedio\n\uD83D\uDD0D Tipo de empleo: Jornada completa\n\uD83D\uDD0D Función laboral: Consultoría, Ingeniería y Tecnología de la información\n\uD83D\uDD0D Sectores: Servicios y consultoría de TI y Desarrollo de software\n✅ Job scraped\n\n➡️ Scraping https://es.linkedin.com/jobs/view/desarrollador-a-sharepoint-at-soltel-group-4297523286?position=9&pageNum=2&refId=YaDdEN1r9NmB97mZymtqQw%3D%3D&trackingId=ty0%2Fwb6w2AZNupQPOG41JA%3D%3D\n\uD83D\uDD0D Nivel de antigüedad: Intermedio\n\uD83D\uDD0D Tipo de empleo: Jornada completa\n\uD83D\uDD0D Función laboral: Gestión de proyectos\n\uD83D\uDD0D Sectores: Seguridad de redes y sistemas informáticos\n✅ Job scraped\n\n➡️ Scraping https://es.linkedin.com/jobs/view/full-stack-java-developer-with-italian-staff-ey-gds-spain-hybrid-at-ey-4248770780?position=2&pageNum=3&refId=qmLhXMexVWQTj3RfyENc7Q%3D%3D&trackingId=tVQ6HSZLoI3KLLs9N4WiAQ%3D%3D\n\uD83D\uDD0D Nivel de antigüedad: Intermedio\n\uD83D\uDD0D Tipo de empleo: Jornada completa\n\uD83D\uDD0D Función laboral: Ingeniería y Tecnología de la información\n\uD83D\uDD0D Sectores: Servicios profesionales\n✅ Job scraped\n\n➡️ Scraping https://es.linkedin.com/jobs/view/senior-sap-abap-developer-at-epam-systems-4295547570?position=7&pageNum=3&refId=qmLhXMexVWQTj3RfyENc7Q%3D%3D&trackingId=2UUZyrZHbFBXEbMZMLu4MQ%3D%3D\n⚠️ Error 429 en https://es.linkedin.com/jobs/view/senior-sap-abap-developer-at-epam-systems-4295547570?position=7&pageNum=3&refId=qmLhXMexVWQTj3RfyENc7Q%3D%3D&trackingId=2UUZyrZHbFBXEbMZMLu4MQ%3D%3D, reintento 1/3\n⚠️ Error 429 en https://es.linkedin.com/jobs/view/senior-sap-abap-developer-at-epam-systems-4295547570?position=7&pageNum=3&refId=qmLhXMexVWQTj3RfyENc7Q%3D%3D&trackingId=2UUZyrZHbFBXEbMZMLu4MQ%3D%3D, reintento 2/3\n\uD83D\uDD0D Nivel de antigüedad: Intermedio\n\uD83D\uDD0D Tipo de empleo: Jornada completa\n\uD83D\uDD0D Función laboral: Tecnología de la información, Ingeniería y Desarrollo empresarial\n\uD83D\uDD0D Sectores: Desarrollo de software y Servicios y consultoría de TI\n✅ Job scraped\n\n➡️ Scraping https://es.linkedin.com/jobs/view/senior-java-developer-at-wehunt-espa%C3%B1a-4297141494?position=6&pageNum=1&refId=MVxbgCt19so1laXG5FKQIQ%3D%3D&trackingId=Eta7HJQKxBEv1ZMK%2FRxJaA%3D%3D\n\uD83D\uDD0D Nivel de antigüedad: Intermedio\n\uD83D\uDD0D Tipo de empleo: Jornada completa\n\uD83D\uDD0D Función laboral: Analista\n\uD83D\uDD0D Sectores: Servicios y consultoría de TI\n✅ Job scraped\n\n➡️ Scraping https://es.linkedin.com/jobs/view/programador-a-java-m%C3%A1laga-%E2%80%93-presencial-at-grupo-tecdata-engineering-4297145940?position=5&pageNum=1&refId=MVxbgCt19so1laXG5FKQIQ%3D%3D&trackingId=rz0VM1hWxAFcKxtB6MBcAg%3D%3D\n\uD83D\uDD0D Nivel de antigüedad: Sin experiencia\n\uD83D\uDD0D Tipo de empleo: Jornada completa\n\uD83D\uDD0D Función laboral: Ingeniería y Tecnología de la información\n\uD83D\uDD0D Sectores: Servicios y consultoría de TI\n✅ Job scraped\n\n➡️ Scraping https://es.linkedin.com/jobs/view/test-automation-engineer-at-ntt-data-europe-latam-4287889327?position=4&pageNum=0&refId=%2FHeaL1Ine1LHKT61MFlU1Q%3D%3D&trackingId=PlWO5eOGvPsUtRdgBIlsHA%3D%3D\n\uD83D\uDD0D Nivel de antigüedad: Algo de responsabilidad\n\uD83D\uDD0D Tipo de empleo: Jornada completa\n\uD83D\uDD0D Función laboral: Tecnología de la información\n\uD83D\uDD0D Sectores: Servicios y consultoría de TI\n✅ Job scraped\n\n➡️ Scraping https://es.linkedin.com/jobs/view/senior-software-engineer-go-at-block-labs-4297653278?position=10&pageNum=1&refId=MVxbgCt19so1laXG5FKQIQ%3D%3D&trackingId=xYPQltVXDmZ4BRVxvzWOFw%3D%3D\n\uD83D\uDD0D Nivel de antigüedad: Intermedio\n\uD83D\uDD0D Tipo de empleo: Jornada completa\n\uD83D\uDD0D Función laboral: Otro\n\uD83D\uDD0D Sectores: Servicios y consultoría de TI\n✅ Job scraped\n\n➡️ Scraping https://es.linkedin.com/jobs/view/middleware-engineer-at-cipex-consejo-de-ingenieros-peruanos-en-el-exterior-4297196830?position=5&pageNum=2&refId=YaDdEN1r9NmB97mZymtqQw%3D%3D&trackingId=o%2FSwnQRfvvLW9muvtkdkDw%3D%3D\n\uD83D\uDD0D Nivel de antigüedad: Intermedio\n\uD83D\uDD0D Tipo de empleo: Contrato por obra\n\uD83D\uDD0D Función laboral: Tecnología de la información\n\uD83D\uDD0D Sectores: Mercados de capitales\n✅ Job scraped\n\n➡️ Scraping https://es.linkedin.com/jobs/view/senior-data-engineer-at-betsson-group-4276663902?position=10&pageNum=2&refId=YaDdEN1r9NmB97mZymtqQw%3D%3D&trackingId=YFaAIR75VQbLol3PQisAMw%3D%3D\n\uD83D\uDD0D Nivel de antigüedad: No corresponde\n\uD83D\uDD0D Tipo de empleo: Jornada completa\n\uD83D\uDD0D Función laboral: Tecnología de la información\n\uD83D\uDD0D Sectores: Tecnología, información e internet\n✅ Job scraped\n\n➡️ Scraping https://es.linkedin.com/jobs/view/middleware-engineer-at-cipex-consejo-de-ingenieros-peruanos-en-el-exterior-4297199708?position=9&pageNum=1&refId=MVxbgCt19so1laXG5FKQIQ%3D%3D&trackingId=KUkjH7hSB409DeGV4tqILw%3D%3D\n\uD83D\uDD0D Nivel de antigüedad: Intermedio\n\uD83D\uDD0D Tipo de empleo: Contrato por obra\n\uD83D\uDD0D Función laboral: Tecnología de la información\n\uD83D\uDD0D Sectores: Consultorios médicos\n✅ Job scraped\n\n➡️ Scraping https://es.linkedin.com/jobs/view/middleware-engineer-at-cipex-consejo-de-ingenieros-peruanos-en-el-exterior-4297193864?position=4&pageNum=2&refId=YaDdEN1r9NmB97mZymtqQw%3D%3D&trackingId=u9nXmJVaw8LscGHgQvgmuA%3D%3D\n\uD83D\uDD0D Nivel de antigüedad: Intermedio\n\uD83D\uDD0D Tipo de empleo: Contrato por obra\n\uD83D\uDD0D Función laboral: Tecnología de la información\n\uD83D\uDD0D Sectores: Traducción y localización\n✅ Job scraped\n\n➡️ Scraping https://es.linkedin.com/jobs/view/middleware-engineer-at-cipex-consejo-de-ingenieros-peruanos-en-el-exterior-4297303227?position=6&pageNum=2&refId=YaDdEN1r9NmB97mZymtqQw%3D%3D&trackingId=Vx3RKlosD5mMnjmiSiXVeg%3D%3D\n⚠️ Error 429 en https://es.linkedin.com/jobs/view/middleware-engineer-at-cipex-consejo-de-ingenieros-peruanos-en-el-exterior-4297303227?position=6&pageNum=2&refId=YaDdEN1r9NmB97mZymtqQw%3D%3D&trackingId=Vx3RKlosD5mMnjmiSiXVeg%3D%3D, reintento 1/3\n⚠️ Error 429 en https://es.linkedin.com/jobs/view/middleware-engineer-at-cipex-consejo-de-ingenieros-peruanos-en-el-exterior-4297303227?position=6&pageNum=2&refId=YaDdEN1r9NmB97mZymtqQw%3D%3D&trackingId=Vx3RKlosD5mMnjmiSiXVeg%3D%3D, reintento 2/3\n\uD83D\uDD0D Nivel de antigüedad: Intermedio\n\uD83D\uDD0D Tipo de empleo: Contrato por obra\n\uD83D\uDD0D Función laboral: Tecnología de la información\n\uD83D\uDD0D Sectores: Transporte terrestre en camión\n✅ Job scraped\n\n➡️ Scraping https://es.linkedin.com/jobs/view/expert-backstack-solution-engineer-at-talan-4186799496?position=2&pageNum=1&refId=MVxbgCt19so1laXG5FKQIQ%3D%3D&trackingId=2gIoNd3ovbHOPHHE6oV3FQ%3D%3D\n\uD83D\uDD0D Nivel de antigüedad: No corresponde\n\uD83D\uDD0D Tipo de empleo: Jornada completa\n\uD83D\uDD0D Función laboral: Ingeniería\n\uD83D\uDD0D Sectores: Desarrollo de software y Servicios y consultoría de TI\n✅ Job scraped\n\n➡️ Scraping https://es.linkedin.com/jobs/view/senior-data-engineer-at-axiumai-4295546520?position=7&pageNum=1&refId=MVxbgCt19so1laXG5FKQIQ%3D%3D&trackingId=dO2W3ykHLHR5EDHeN%2FdJmQ%3D%3D\n\uD83D\uDD0D Nivel de antigüedad: Intermedio\n\uD83D\uDD0D Tipo de empleo: Jornada completa\n\uD83D\uDD0D Función laboral: Tecnología de la información\n\uD83D\uDD0D Sectores: Desarrollo de software, Equipos y clubes deportivos y Infraestructura y análisis de datos\n✅ Job scraped\n\n➡️ Scraping https://es.linkedin.com/jobs/view/qa-tester-and-qa-automation-engineer-at-ntt-data-europe-latam-4287886508?position=10&pageNum=0&refId=%2FHeaL1Ine1LHKT61MFlU1Q%3D%3D&trackingId=1SAXeLKjaSRYQZJbaWKojg%3D%3D\n\uD83D\uDD0D Nivel de antigüedad: Algo de responsabilidad\n\uD83D\uDD0D Tipo de empleo: Jornada completa\n\uD83D\uDD0D Función laboral: Tecnología de la información\n\uD83D\uDD0D Sectores: Servicios y consultoría de TI\n✅ Job scraped\n\n➡️ Scraping https://es.linkedin.com/jobs/view/avanade-campus-pr%C3%A1cticas-en-software-engineering-con-tecnolog%C3%ADas-microsoft-octubre-2025-at-avanade-4297140086?position=2&pageNum=2&refId=YaDdEN1r9NmB97mZymtqQw%3D%3D&trackingId=%2FBwquApjqw232RW09sjnGw%3D%3D\n\uD83D\uDD0D Nivel de antigüedad: Prácticas\n\uD83D\uDD0D Tipo de empleo: Jornada completa\n\uD83D\uDD0D Función laboral: Otro\n\uD83D\uDD0D Sectores: Servicios y consultoría de TI\n✅ Job scraped\n\n\n\uD83C\uDF0D Buscando ofertas en Aragon...\n\n\uD83D\uDD0E Scraping page: https://www.linkedin.com/jobs-guest/jobs/api/seeMoreJobPostings/search?keywords=Data%20Scientist&location=Aragon&f_TPR=r86400&trk=public_jobs_jobs-search-bar_search-submit&start=0 ...\n\uD83D\uDD0E Scraping page: https://www.linkedin.com/jobs-guest/jobs/api/seeMoreJobPostings/search?keywords=Data%20Scientist&location=Aragon&f_TPR=r86400&trk=public_jobs_jobs-search-bar_search-submit&start=10 ...\n✅ No se encontraron más ofertas en esta página.\n✅ 7 ofertas encontradas en Aragon\n\n➡️ Scraping https://es.linkedin.com/jobs/view/senior-sap-abap-developer-at-epam-systems-4295564484?position=7&pageNum=0&refId=1ardqEFj0LD9By7dGs%2BxKg%3D%3D&trackingId=QhnmQxO6ccez7M4HKfK%2BTw%3D%3D\n\uD83D\uDD0D Nivel de antigüedad: Intermedio\n\uD83D\uDD0D Tipo de empleo: Jornada completa\n\uD83D\uDD0D Función laboral: Tecnología de la información, Ingeniería y Desarrollo empresarial\n\uD83D\uDD0D Sectores: Desarrollo de software y Servicios y consultoría de TI\n✅ Job scraped\n\n➡️ Scraping https://es.linkedin.com/jobs/view/programador-a-plc-zaragoza-at-mecalux-4281065013?position=1&pageNum=0&refId=1ardqEFj0LD9By7dGs%2BxKg%3D%3D&trackingId=TUsiok%2FfrClDBb6P7eHPDg%3D%3D\n\uD83D\uDD0D Nivel de antigüedad: Intermedio\n\uD83D\uDD0D Tipo de empleo: Jornada completa\n\uD83D\uDD0D Función laboral: Ingeniería\n\uD83D\uDD0D Sectores: Transporte, logística, cadena de suministro y almacenamiento\n✅ Job scraped\n\n➡️ Scraping https://es.linkedin.com/jobs/view/azure-devops-crm-dynamics-at-capgemini-4291849259?position=6&pageNum=0&refId=1ardqEFj0LD9By7dGs%2BxKg%3D%3D&trackingId=jaxE4naKEPQTScxIHiXB9A%3D%3D\n\uD83D\uDD0D Nivel de antigüedad: Sin experiencia\n\uD83D\uDD0D Tipo de empleo: Jornada completa\n\uD83D\uDD0D Función laboral: Gestión y Manufactura\n\uD83D\uDD0D Sectores: Servicios y consultoría de TI\n✅ Job scraped\n\n➡️ Scraping https://es.linkedin.com/jobs/view/senior-full-stack-developer-java-angular-at-gft-technologies-4295583305?position=5&pageNum=0&refId=1ardqEFj0LD9By7dGs%2BxKg%3D%3D&trackingId=NY7SrECBRy1TbUGOATGk6A%3D%3D\n\uD83D\uDD0D Nivel de antigüedad: Intermedio\n\uD83D\uDD0D Tipo de empleo: Jornada completa\n\uD83D\uDD0D Función laboral: Tecnología de la información\n\uD83D\uDD0D Sectores: Desarrollo de software y Servicios y consultoría de TI\n✅ Job scraped\n\n➡️ Scraping https://es.linkedin.com/jobs/view/middleware-engineer-at-cipex-consejo-de-ingenieros-peruanos-en-el-exterior-4297181996?position=4&pageNum=0&refId=1ardqEFj0LD9By7dGs%2BxKg%3D%3D&trackingId=b0Sa8Dy5N38PYbnnStG0Tg%3D%3D\n\uD83D\uDD0D Nivel de antigüedad: Intermedio\n\uD83D\uDD0D Tipo de empleo: Contrato por obra\n\uD83D\uDD0D Función laboral: Tecnología de la información\n\uD83D\uDD0D Sectores: Desarrollo y comercio internacional\n✅ Job scraped\n\n➡️ Scraping https://es.linkedin.com/jobs/view/electrical-engineering-technician-data-centers-data-center-engineering-operations-at-amazon-web-services-aws-4077929673?position=3&pageNum=0&refId=1ardqEFj0LD9By7dGs%2BxKg%3D%3D&trackingId=lK6RNwNLnv2qy0YeRU2%2Fxw%3D%3D\n⚠️ Error 429 en https://es.linkedin.com/jobs/view/electrical-engineering-technician-data-centers-data-center-engineering-operations-at-amazon-web-services-aws-4077929673?position=3&pageNum=0&refId=1ardqEFj0LD9By7dGs%2BxKg%3D%3D&trackingId=lK6RNwNLnv2qy0YeRU2%2Fxw%3D%3D, reintento 1/3\n\uD83D\uDD0D Nivel de antigüedad: No corresponde\n\uD83D\uDD0D Tipo de empleo: Jornada completa\n\uD83D\uDD0D Función laboral: Tecnología de la información, Consultoría y Ingeniería\n\uD83D\uDD0D Sectores: Servicios y consultoría de TI\n✅ Job scraped\n\n➡️ Scraping https://es.linkedin.com/jobs/view/backend-developer-at-endalia-4297146271?position=2&pageNum=0&refId=1ardqEFj0LD9By7dGs%2BxKg%3D%3D&trackingId=89yK61YUdUCrMVY%2BAMl9Tw%3D%3D\n\uD83D\uDD0D Nivel de antigüedad: Algo de responsabilidad\n\uD83D\uDD0D Tipo de empleo: Jornada completa\n\uD83D\uDD0D Función laboral: Consultoría, Gestión de proyectos y Tecnología de la información\n\uD83D\uDD0D Sectores: Desarrollo de software y Servicios de recursos humanos\n✅ Job scraped\n\n\n\uD83C\uDF0D Buscando ofertas en Asturias...\n\n\uD83D\uDD0E Scraping page: https://www.linkedin.com/jobs-guest/jobs/api/seeMoreJobPostings/search?keywords=Data%20Scientist&location=Asturias&f_TPR=r86400&trk=public_jobs_jobs-search-bar_search-submit&start=0 ...\n\uD83D\uDD0E Scraping page: https://www.linkedin.com/jobs-guest/jobs/api/seeMoreJobPostings/search?keywords=Data%20Scientist&location=Asturias&f_TPR=r86400&trk=public_jobs_jobs-search-bar_search-submit&start=10 ...\n✅ No se encontraron más ofertas en esta página.\n✅ 7 ofertas encontradas en Asturias\n\n➡️ Scraping https://es.linkedin.com/jobs/view/middleware-engineer-at-cipex-consejo-de-ingenieros-peruanos-en-el-exterior-4297303229?position=4&pageNum=0&refId=maYWhTVc9gqKFFB5QKt6xQ%3D%3D&trackingId=tD2rkYTcH%2FVYaLiOqGHgvw%3D%3D\n\uD83D\uDD0D Nivel de antigüedad: Intermedio\n\uD83D\uDD0D Tipo de empleo: Contrato por obra\n\uD83D\uDD0D Función laboral: Tecnología de la información\n\uD83D\uDD0D Sectores: Medicina alternativa\n✅ Job scraped\n\n➡️ Scraping https://es.linkedin.com/jobs/view/desarrollador-a-liferay-at-capgemini-4297541107?position=7&pageNum=0&refId=maYWhTVc9gqKFFB5QKt6xQ%3D%3D&trackingId=z6eohIAER8xKYYZDDcNoig%3D%3D\n\uD83D\uDD0D Nivel de antigüedad: Intermedio\n\uD83D\uDD0D Tipo de empleo: Jornada completa\n\uD83D\uDD0D Función laboral: Ingeniería y Tecnología de la información\n\uD83D\uDD0D Sectores: Servicios y consultoría de TI\n✅ Job scraped\n\n➡️ Scraping https://es.linkedin.com/jobs/view/programador-a-plc-gij%C3%B3n-at-mecalux-4281058798?position=3&pageNum=0&refId=maYWhTVc9gqKFFB5QKt6xQ%3D%3D&trackingId=nGIuUVbSjqbSIoN1vqPFRQ%3D%3D\n\uD83D\uDD0D Nivel de antigüedad: Intermedio\n\uD83D\uDD0D Tipo de empleo: Jornada completa\n\uD83D\uDD0D Función laboral: Ingeniería y Tecnología de la información\n\uD83D\uDD0D Sectores: Transporte, logística, cadena de suministro y almacenamiento\n✅ Job scraped\n\n➡️ Scraping https://es.linkedin.com/jobs/view/middleware-engineer-at-cipex-consejo-de-ingenieros-peruanos-en-el-exterior-4297304171?position=6&pageNum=0&refId=maYWhTVc9gqKFFB5QKt6xQ%3D%3D&trackingId=Atj9ZXM%2FAn4ZK%2F3s57H%2BSw%3D%3D\n\uD83D\uDD0D Nivel de antigüedad: Intermedio\n\uD83D\uDD0D Tipo de empleo: Contrato por obra\n\uD83D\uDD0D Función laboral: Tecnología de la información\n\uD83D\uDD0D Sectores: Servicios al consumidor\n✅ Job scraped\n\n➡️ Scraping https://es.linkedin.com/jobs/view/junior-qa-engineer-at-crisalix-4297300555?position=2&pageNum=0&refId=maYWhTVc9gqKFFB5QKt6xQ%3D%3D&trackingId=XU3Wn1ZNonkWl19pGpNCsg%3D%3D\n\uD83D\uDD0D Nivel de antigüedad: Sin experiencia\n\uD83D\uDD0D Tipo de empleo: Jornada completa\n\uD83D\uDD0D Función laboral: Tecnología de la información\n\uD83D\uDD0D Sectores: Fabricación de componentes aeroespaciales y de aviación\n✅ Job scraped\n\n➡️ Scraping https://es.linkedin.com/jobs/view/medical-representative-asturias-at-bial-4297605245?position=1&pageNum=0&refId=maYWhTVc9gqKFFB5QKt6xQ%3D%3D&trackingId=%2BUZRtvrhd%2BEtGBg525uM5A%3D%3D\n\uD83D\uDD0D Nivel de antigüedad: Intermedio\n\uD83D\uDD0D Tipo de empleo: Jornada completa\n\uD83D\uDD0D Función laboral: Administración\n\uD83D\uDD0D Sectores: Fabricación de productos farmacéuticos\n✅ Job scraped\n\n➡️ Scraping https://es.linkedin.com/jobs/view/middleware-engineer-at-cipex-consejo-de-ingenieros-peruanos-en-el-exterior-4297196829?position=5&pageNum=0&refId=maYWhTVc9gqKFFB5QKt6xQ%3D%3D&trackingId=O5H5G4eQufdXV2wLnG3ESw%3D%3D\n\uD83D\uDD0D Nivel de antigüedad: Intermedio\n\uD83D\uDD0D Tipo de empleo: Contrato por obra\n\uD83D\uDD0D Función \n\n*** WARNING: max output size exceeded, skipping output. ***\n\nón laboral: Ingeniería\n\uD83D\uDD0D Sectores: Servicios y consultoría de TI\n✅ Job scraped\n\n➡️ Scraping https://es.linkedin.com/jobs/view/ingeniero-a-de-software-c%2B%2B-at-tob-consulting-4295550315?position=7&pageNum=17&refId=YacaWh%2BfLVTLLTM%2FxL1t6Q%3D%3D&trackingId=5Gm185vif1v7eD%2FzChexwg%3D%3D\n\uD83D\uDD0D Nivel de antigüedad: Sin experiencia\n\uD83D\uDD0D Tipo de empleo: Jornada completa\n\uD83D\uDD0D Función laboral: Ingeniería y Tecnología de la información\n\uD83D\uDD0D Sectores: Consultoría y servicios a empresas\n✅ Job scraped\n\n➡️ Scraping https://es.linkedin.com/jobs/view/software-engineering-intern-at-datadog-4297600773?position=5&pageNum=6&refId=23OhpJsKbv7o7TiiwxdWsA%3D%3D&trackingId=dk2ARalXvZ4plf1ZQCLduA%3D%3D\n\uD83D\uDD0D Nivel de antigüedad: Prácticas\n\uD83D\uDD0D Tipo de empleo: Jornada completa\n\uD83D\uDD0D Función laboral: Ingeniería y Tecnología de la información\n\uD83D\uDD0D Sectores: Desarrollo de software\n✅ Job scraped\n\n➡️ Scraping https://es.linkedin.com/jobs/view/application-engineer-at-atradius-4295571098?position=1&pageNum=5&refId=ga0ieBOLlj7btzYq5uj%2Fng%3D%3D&trackingId=77n81ecTiOei1S7od%2Fqw2Q%3D%3D\n\uD83D\uDD0D Nivel de antigüedad: Algo de responsabilidad\n\uD83D\uDD0D Tipo de empleo: Jornada completa\n\uD83D\uDD0D Función laboral: Tecnología de la información, Consultoría y Gestión de productos\n\uD83D\uDD0D Sectores: Seguros\n✅ Job scraped\n\n➡️ Scraping https://es.linkedin.com/jobs/view/devops-engineer-at-prophero-4294387277?position=9&pageNum=15&refId=lUtFTT1xiri6XlJWta2KOw%3D%3D&trackingId=3IqLdjooXRtk%2FkERai5i9A%3D%3D\n\uD83D\uDD0D Nivel de antigüedad: Intermedio\n\uD83D\uDD0D Tipo de empleo: Jornada completa\n\uD83D\uDD0D Función laboral: Tecnología de la información\n\uD83D\uDD0D Sectores: Gestión de inversiones y Desarrollo de software\n✅ Job scraped\n\n➡️ Scraping https://es.linkedin.com/jobs/view/java-developer-mid-%E2%80%93-api-microservicios-30k%E2%82%AC-37k%E2%82%AC-at-joppy-4297187188?position=2&pageNum=27&refId=trPnPpQz4k45fgtNBmexSA%3D%3D&trackingId=Cw2Fq9ZL88345BOnQ65X6g%3D%3D\n\uD83D\uDD0D Nivel de antigüedad: Algo de responsabilidad\n\uD83D\uDD0D Tipo de empleo: Jornada completa\n\uD83D\uDD0D Función laboral: Tecnología de la información\n\uD83D\uDD0D Sectores: Tecnología, información e internet\n✅ Job scraped\n\n➡️ Scraping https://es.linkedin.com/jobs/view/workforce-analyst-relaci%C3%B3n-cliente-at-securitas-direct-by-verisure-4295559679?position=10&pageNum=32&refId=Kod%2FyxdftakwWuFAoXhqyA%3D%3D&trackingId=%2F9NefheoytgicZblQ6pFpA%3D%3D\n\uD83D\uDD0D Nivel de antigüedad: No corresponde\n\uD83D\uDD0D Tipo de empleo: Jornada completa\n\uD83D\uDD0D Función laboral: Producción\n\uD83D\uDD0D Sectores: Industria manufacturera\n✅ Job scraped\n\n➡️ Scraping https://es.linkedin.com/jobs/view/data-engineer-snowflake-at-lumenalta-4297500239?position=7&pageNum=28&refId=hoqLNKnM4qYqnVpsS232ew%3D%3D&trackingId=vpXBvpholpFsooRCgqCDxg%3D%3D\n\uD83D\uDD0D Nivel de antigüedad: Intermedio\n\uD83D\uDD0D Tipo de empleo: Jornada completa\n\uD83D\uDD0D Función laboral: Ingeniería, Tecnología de la información y Consultoría\n\uD83D\uDD0D Sectores: Servicios y consultoría de TI\n✅ Job scraped\n\n➡️ Scraping https://es.linkedin.com/jobs/view/senior-data-engineer-ir-454-at-intellectsoft-4297539297?position=5&pageNum=25&refId=2I9IkyLxypT5Nw%2BNFtOygA%3D%3D&trackingId=ae6DRhp4ZQFBtNqvWA%2BC6w%3D%3D\n\uD83D\uDD0D Nivel de antigüedad: Intermedio\n\uD83D\uDD0D Tipo de empleo: Jornada completa\n\uD83D\uDD0D Función laboral: Tecnología de la información\n\uD83D\uDD0D Sectores: Servicios y consultoría de TI\n✅ Job scraped\n\n➡️ Scraping https://es.linkedin.com/jobs/view/big-data-developer-at-ubique-systems-4295538741?position=2&pageNum=2&refId=k6gNPYI%2FL9xDzDB6w%2ByuLA%3D%3D&trackingId=vQgj8yvNIPTXto6yNcBrSQ%3D%3D\n\uD83D\uDD0D Nivel de antigüedad: Intermedio\n\uD83D\uDD0D Tipo de empleo: Jornada completa\n\uD83D\uDD0D Función laboral: Tecnología de la información\n\uD83D\uDD0D Sectores: Servicios y consultoría de TI\n✅ Job scraped\n\n➡️ Scraping https://es.linkedin.com/jobs/view/testing-engineer-at-gmv-4195826566?position=10&pageNum=13&refId=QflOyHSjry%2FMkJdBSFmZxA%3D%3D&trackingId=JSG%2BFQhHU7xVW0WDGQTDfQ%3D%3D\n⚠️ Error 429 en https://es.linkedin.com/jobs/view/testing-engineer-at-gmv-4195826566?position=10&pageNum=13&refId=QflOyHSjry%2FMkJdBSFmZxA%3D%3D&trackingId=JSG%2BFQhHU7xVW0WDGQTDfQ%3D%3D, reintento 1/3\n\uD83D\uDD0D Nivel de antigüedad: Sin experiencia\n\uD83D\uDD0D Tipo de empleo: Jornada completa\n\uD83D\uDD0D Función laboral: Tecnología de la información y Ingeniería\n\uD83D\uDD0D Sectores: Desarrollo de software, Seguridad de redes y sistemas informáticos y Servicios y consultoría de TI\n✅ Job scraped\n\n➡️ Scraping https://es.linkedin.com/jobs/view/%F0%9F%8C%8D-frontend-angular-100%25-remoto-%F0%9F%8C%8D-at-knowmad-mood-4263098192?position=2&pageNum=18&refId=zdFJbXknZ91dOiCBUBm6oQ%3D%3D&trackingId=bK%2B6CYrG1YwC7vwcPpbaUQ%3D%3D\n\uD83D\uDD0D Nivel de antigüedad: Intermedio\n\uD83D\uDD0D Tipo de empleo: Jornada completa\n\uD83D\uDD0D Función laboral: Tecnología de la información y Ingeniería\n\uD83D\uDD0D Sectores: Servicios y consultoría de TI\n✅ Job scraped\n\n➡️ Scraping https://es.linkedin.com/jobs/view/programador-a-shopify-at-inforges-4295557246?position=4&pageNum=8&refId=UqLFDuJflAdW1O%2BOBVg13g%3D%3D&trackingId=cXOkMeCvfYnrBUUzatvE6g%3D%3D\n\uD83D\uDD0D Nivel de antigüedad: Intermedio\n\uD83D\uDD0D Tipo de empleo: Jornada completa\n\uD83D\uDD0D Función laboral: Tecnología de la información\n\uD83D\uDD0D Sectores: Tecnología, información y medios de comunicación\n✅ Job scraped\n\n➡️ Scraping https://es.linkedin.com/jobs/view/backoffice-ia-h-m-x-at-grupo-tecdata-engineering-4295597016?position=5&pageNum=7&refId=UrSMNaWJh1NDdi5U48LH%2BQ%3D%3D&trackingId=8n3SHOqN2PZeF4wfyhfcPw%3D%3D\n\uD83D\uDD0D Nivel de antigüedad: Algo de responsabilidad\n\uD83D\uDD0D Tipo de empleo: Jornada completa\n\uD83D\uDD0D Función laboral: Tecnología de la información\n\uD83D\uDD0D Sectores: Servicios y consultoría de TI\n✅ Job scraped\n\n➡️ Scraping https://es.linkedin.com/jobs/view/data-scientist-especialista-en-ia-generativa-at-bip-spain-4297609026?position=1&pageNum=1&refId=RogLbXh1DU36zqcQ0vI2Uw%3D%3D&trackingId=pLpqeJKTmJ6vc14besFNQQ%3D%3D\n\uD83D\uDD0D Nivel de antigüedad: No corresponde\n\uD83D\uDD0D Tipo de empleo: Jornada completa\n\uD83D\uDD0D Función laboral: Ingeniería y Tecnología de la información\n\uD83D\uDD0D Sectores: Consultoría y servicios a empresas\n✅ Job scraped\n\n➡️ Scraping https://es.linkedin.com/jobs/view/senior-golang-engineer-at-lumenalta-4297526753?position=8&pageNum=24&refId=2oB06rP7F5tBcFWWEPleHA%3D%3D&trackingId=wL5xVjmP5MWovgHqYtCm%2BA%3D%3D\n\uD83D\uDD0D Nivel de antigüedad: Intermedio\n\uD83D\uDD0D Tipo de empleo: Jornada completa\n\uD83D\uDD0D Función laboral: Ingeniería, Tecnología de la información y Consultoría\n\uD83D\uDD0D Sectores: Servicios y consultoría de TI, Servicios financieros y Banca\n✅ Job scraped\n\n➡️ Scraping https://es.linkedin.com/jobs/view/senior-qa-engineer-frontend-ui-on-site-madrid-at-e-frontiers-4295521862?position=6&pageNum=23&refId=kYHYUhCXh7yCb8XM2fNySA%3D%3D&trackingId=qsK4%2BJvDAPXu7o360ttuyg%3D%3D\n\uD83D\uDD0D Nivel de antigüedad: Intermedio\n\uD83D\uDD0D Tipo de empleo: Jornada completa\n\uD83D\uDD0D Función laboral: Ingeniería, Finanzas y Tecnología de la información\n\uD83D\uDD0D Sectores: Desarrollo de software\n✅ Job scraped\n\n➡️ Scraping https://es.linkedin.com/jobs/view/fullstack-developer-java-%2B-react-remoto-at-knowmad-mood-4295562133?position=3&pageNum=8&refId=UqLFDuJflAdW1O%2BOBVg13g%3D%3D&trackingId=L7IUafzprzOJzoKOr7kncg%3D%3D\n\uD83D\uDD0D Nivel de antigüedad: Intermedio\n\uD83D\uDD0D Tipo de empleo: Jornada completa\n\uD83D\uDD0D Función laboral: Tecnología de la información\n\uD83D\uDD0D Sectores: Servicios y consultoría de TI\n✅ Job scraped\n\n➡️ Scraping https://es.linkedin.com/jobs/view/analista-de-datos-jr-at-grupo-viarium-4297112858?position=5&pageNum=8&refId=UqLFDuJflAdW1O%2BOBVg13g%3D%3D&trackingId=IvsUPsye3QI4G8Z2WOjUQA%3D%3D\n\uD83D\uDD0D Nivel de antigüedad: Sin experiencia\n\uD83D\uDD0D Tipo de empleo: Jornada completa\n\uD83D\uDD0D Función laboral: Consultoría\n\uD83D\uDD0D Sectores: Aeronáutica y aviación\n✅ Job scraped\n\n➡️ Scraping https://es.linkedin.com/jobs/view/data-scientist-at-the-adecco-group-4295554894?position=4&pageNum=0&refId=yp%2FxbStM8F7RE8xbRm9LTw%3D%3D&trackingId=wp8HSKF33fM0U1fJ4MmpJA%3D%3D\n\uD83D\uDD0D Nivel de antigüedad: Algo de responsabilidad\n\uD83D\uDD0D Tipo de empleo: Jornada completa\n\uD83D\uDD0D Función laboral: Tecnología de la información\n\uD83D\uDD0D Sectores: Servicios de recursos humanos\n✅ Job scraped\n\n➡️ Scraping https://es.linkedin.com/jobs/view/backend-developer-java-microservicios-%E2%82%AC38k-%E2%82%AC42k-at-joppy-4297193195?position=1&pageNum=21&refId=jsjq1cnlaMJo5CzLx9DPlw%3D%3D&trackingId=jRaJUb9CTgPNf9UwYVbUGg%3D%3D\n⚠️ Error 429 en https://es.linkedin.com/jobs/view/backend-developer-java-microservicios-%E2%82%AC38k-%E2%82%AC42k-at-joppy-4297193195?position=1&pageNum=21&refId=jsjq1cnlaMJo5CzLx9DPlw%3D%3D&trackingId=jRaJUb9CTgPNf9UwYVbUGg%3D%3D, reintento 1/3\n\uD83D\uDD0D Nivel de antigüedad: Intermedio\n\uD83D\uDD0D Tipo de empleo: Jornada completa\n\uD83D\uDD0D Función laboral: Tecnología de la información\n\uD83D\uDD0D Sectores: Tecnología, información e internet\n✅ Job scraped\n\n➡️ Scraping https://es.linkedin.com/jobs/view/desarrollador-a-abap-at-ioon-4295553767?position=4&pageNum=28&refId=hoqLNKnM4qYqnVpsS232ew%3D%3D&trackingId=u7dgDqIgPuAgYuWyIVGj0A%3D%3D\n\uD83D\uDD0D Nivel de antigüedad: Intermedio\n\uD83D\uDD0D Tipo de empleo: Jornada completa\n\uD83D\uDD0D Función laboral: Tecnología de la información\n\uD83D\uDD0D Sectores: Servicios y consultoría de TI\n✅ Job scraped\n\n➡️ Scraping https://es.linkedin.com/jobs/view/senior-java-microservicios-tdd-at-gft-technologies-4288541926?position=5&pageNum=22&refId=Zz6VOlHPMltrUUsDJ6a0Dg%3D%3D&trackingId=JN%2FHKd6E44Phs%2F4wJM%2BEoA%3D%3D\n\uD83D\uDD0D Nivel de antigüedad: Intermedio\n\uD83D\uDD0D Tipo de empleo: Jornada completa\n\uD83D\uDD0D Función laboral: Tecnología de la información\n\uD83D\uDD0D Sectores: Desarrollo de software y Servicios y consultoría de TI\n✅ Job scraped\n\n➡️ Scraping https://es.linkedin.com/jobs/view/data-engineer-senior-at-lumenalta-4297281902?position=4&pageNum=31&refId=pBlTO%2FZp%2FDpWDUiZBcBTxQ%3D%3D&trackingId=5N8DiUY1gr7Y2ckpYHSV3Q%3D%3D\n\uD83D\uDD0D Nivel de antigüedad: Intermedio\n\uD83D\uDD0D Tipo de empleo: Contrato por obra\n\uD83D\uDD0D Función laboral: Ingeniería y Tecnología de la información\n\uD83D\uDD0D Sectores: Servicios y consultoría de TI\n✅ Job scraped\n\n➡️ Scraping https://es.linkedin.com/jobs/view/desarrollador-a-junior-java-madrid-at-minsait-4295593411?position=5&pageNum=4&refId=6Lz%2Bp3M%2FWy3w1i3vbmyAuw%3D%3D&trackingId=3sBrkPOqvFCqYvpBFxnn4w%3D%3D\n\uD83D\uDD0D Nivel de antigüedad: Sin experiencia\n\uD83D\uDD0D Tipo de empleo: Jornada completa\n\uD83D\uDD0D Función laboral: Tecnología de la información\n\uD83D\uDD0D Sectores: Servicios y consultoría de TI\n✅ Job scraped\n\n➡️ Scraping https://es.linkedin.com/jobs/view/backup-engineer-at-hcltech-4297181390?position=7&pageNum=8&refId=UqLFDuJflAdW1O%2BOBVg13g%3D%3D&trackingId=nsILpCPD%2FVhmUdxZOTUS0A%3D%3D\n\uD83D\uDD0D Nivel de antigüedad: Algo de responsabilidad\n\uD83D\uDD0D Tipo de empleo: Jornada completa\n\uD83D\uDD0D Función laboral: Tecnología de la información\n\uD83D\uDD0D Sectores: Servicios y consultoría de TI\n✅ Job scraped\n\n➡️ Scraping https://es.linkedin.com/jobs/view/senior-machine-learning-engineer-freelance-shakers-at-shakers-4295586639?position=8&pageNum=0&refId=yp%2FxbStM8F7RE8xbRm9LTw%3D%3D&trackingId=AA3Pqz0Y5JsPz8mxm4u3dQ%3D%3D\n\uD83D\uDD0D Nivel de antigüedad: Intermedio\n\uD83D\uDD0D Tipo de empleo: Contrato por obra\n\uD83D\uDD0D Función laboral: Ingeniería, Investigación y Tecnología de la información\n\uD83D\uDD0D Sectores: Tecnología, información y medios de comunicación, Salud y servicios sociales y Hospitales y atención sanitaria\n✅ Job scraped\n\n➡️ Scraping https://es.linkedin.com/jobs/view/software-engineer-net-c%23-remote-at-ingenierojob-4295542946?position=2&pageNum=26&refId=%2BeJ00Rhf8UdcBP2h4AEg%2BA%3D%3D&trackingId=5cxoKObUxHmY2F7Y8Hbaiw%3D%3D\n\uD83D\uDD0D Nivel de antigüedad: Sin experiencia\n\uD83D\uDD0D Tipo de empleo: Jornada completa\n\uD83D\uDD0D Función laboral: Ingeniería y Tecnología de la información\n\uD83D\uDD0D Sectores: Consultoría y servicios a empresas\n✅ Job scraped\n\n➡️ Scraping https://es.linkedin.com/jobs/view/software-engineer-summer-intern-uk-at-bending-spoons-4296865305?position=2&pageNum=6&refId=23OhpJsKbv7o7TiiwxdWsA%3D%3D&trackingId=V6k1VcLPkn1dSAkQ%2FmAelA%3D%3D\n\uD83D\uDD0D Nivel de antigüedad: Prácticas\n\uD83D\uDD0D Tipo de empleo: Prácticas\n\uD83D\uDD0D Función laboral: Ingeniería y Tecnología de la información\n\uD83D\uDD0D Sectores: Desarrollo de software\n✅ Job scraped\n\n➡️ Scraping https://es.linkedin.com/jobs/view/analista-programador-a-java-at-alten-spain-4295559544?position=8&pageNum=17&refId=YacaWh%2BfLVTLLTM%2FxL1t6Q%3D%3D&trackingId=bUUKiIbFTAwUEKvHHGYwSg%3D%3D\n\uD83D\uDD0D Nivel de antigüedad: Algo de responsabilidad\n\uD83D\uDD0D Tipo de empleo: Jornada completa\n\uD83D\uDD0D Función laboral: Tecnología de la información\n\uD83D\uDD0D Sectores: Servicios y consultoría de TI\n✅ Job scraped\n\n➡️ Scraping https://es.linkedin.com/jobs/view/senior-php-developer-payments-at-payxpert-4246064313?position=7&pageNum=27&refId=trPnPpQz4k45fgtNBmexSA%3D%3D&trackingId=KAeGqZF4h0qsW62PjVNOZw%3D%3D\n⚠️ Error 429 en https://es.linkedin.com/jobs/view/senior-php-developer-payments-at-payxpert-4246064313?position=7&pageNum=27&refId=trPnPpQz4k45fgtNBmexSA%3D%3D&trackingId=KAeGqZF4h0qsW62PjVNOZw%3D%3D, reintento 1/3\n\uD83D\uDD0D Nivel de antigüedad: Algo de responsabilidad\n\uD83D\uDD0D Tipo de empleo: Jornada completa\n\uD83D\uDD0D Función laboral: Tecnología de la información, Desarrollo empresarial y Gestión de productos\n\uD83D\uDD0D Sectores: Servicios y consultoría de TI, Banca y Servicios jurídicos\n✅ Job scraped\n\n➡️ Scraping https://es.linkedin.com/jobs/view/sr-java-developer-remoto-at-isprox-4295537874?position=3&pageNum=23&refId=kYHYUhCXh7yCb8XM2fNySA%3D%3D&trackingId=cvp7%2FfCYV4PTBbslZ%2B3fcw%3D%3D\n\uD83D\uDD0D Nivel de antigüedad: Intermedio\n\uD83D\uDD0D Tipo de empleo: Jornada completa\n\uD83D\uDD0D Función laboral: Tecnología de la información\n\uD83D\uDD0D Sectores: Tecnología, información y medios de comunicación\n✅ Job scraped\n\n➡️ Scraping https://es.linkedin.com/jobs/view/desarrollador-net-ingl%C3%A9s-alto-at-serem-consultor%C3%ADa-empresarial-4295596092?position=1&pageNum=26&refId=%2BeJ00Rhf8UdcBP2h4AEg%2BA%3D%3D&trackingId=%2BkDRkkyYoQVm%2FyMk%2B6D8eQ%3D%3D\n\uD83D\uDD0D Nivel de antigüedad: Algo de responsabilidad\n\uD83D\uDD0D Tipo de empleo: Jornada completa\n\uD83D\uDD0D Función laboral: Consultoría\n\uD83D\uDD0D Sectores: Servicios y consultoría de TI\n✅ Job scraped\n\n\n\uD83C\uDF0D Buscando ofertas en Murcia...\n\n\uD83D\uDD0E Scraping page: https://www.linkedin.com/jobs-guest/jobs/api/seeMoreJobPostings/search?keywords=Data%20Scientist&location=Murcia&f_TPR=r86400&trk=public_jobs_jobs-search-bar_search-submit&start=0 ...\n\uD83D\uDD0E Scraping page: https://www.linkedin.com/jobs-guest/jobs/api/seeMoreJobPostings/search?keywords=Data%20Scientist&location=Murcia&f_TPR=r86400&trk=public_jobs_jobs-search-bar_search-submit&start=10 ...\n✅ No se encontraron más ofertas en esta página.\n✅ 6 ofertas encontradas en Murcia\n\n➡️ Scraping https://es.linkedin.com/jobs/view/test-automation-engineer-at-ntt-data-europe-latam-4287886518?position=2&pageNum=0&refId=6HWtAUGnpcjHoIaPrfkoGQ%3D%3D&trackingId=3E0XuiDWRvZ3ABorKmPbjw%3D%3D\n\uD83D\uDD0D Nivel de antigüedad: Algo de responsabilidad\n\uD83D\uDD0D Tipo de empleo: Jornada completa\n\uD83D\uDD0D Función laboral: Tecnología de la información\n\uD83D\uDD0D Sectores: Servicios y consultoría de TI\n✅ Job scraped\n\n➡️ Scraping https://es.linkedin.com/jobs/view/middleware-engineer-at-cipex-consejo-de-ingenieros-peruanos-en-el-exterior-4297302599?position=3&pageNum=0&refId=6HWtAUGnpcjHoIaPrfkoGQ%3D%3D&trackingId=DhZtSOoBr%2Bp434GWs1fynw%3D%3D\n\uD83D\uDD0D Nivel de antigüedad: Intermedio\n\uD83D\uDD0D Tipo de empleo: Contrato por obra\n\uD83D\uDD0D Función laboral: Tecnología de la información\n\uD83D\uDD0D Sectores: Administración de justicia\n✅ Job scraped\n\n➡️ Scraping https://es.linkedin.com/jobs/view/programador-a-senior-full-stack-net-at-tiki-taka-games-sl-4297631232?position=4&pageNum=0&refId=6HWtAUGnpcjHoIaPrfkoGQ%3D%3D&trackingId=EIxmmz59T7KjNINPfJZ3Vw%3D%3D\n\uD83D\uDD0D Nivel de antigüedad: Intermedio\n\uD83D\uDD0D Tipo de empleo: Jornada completa\n\uD83D\uDD0D Función laboral: Ingeniería y Tecnología de la información\n\uD83D\uDD0D Sectores: Publicaciones en línea\n✅ Job scraped\n\n➡️ Scraping https://es.linkedin.com/jobs/view/programador-a-plc-at-gr%C3%BAas-s%C3%A1ez-sl-4295540562?position=1&pageNum=0&refId=6HWtAUGnpcjHoIaPrfkoGQ%3D%3D&trackingId=j8mBCSSzntXz00CFi6NzUg%3D%3D\n\uD83D\uDD0D Nivel de antigüedad: Sin experiencia\n\uD83D\uDD0D Tipo de empleo: Jornada completa\n\uD83D\uDD0D Sectores: Fabricación de maquinaria industrial\n✅ Job scraped\n\n➡️ Scraping https://es.linkedin.com/jobs/view/desarrollador-a-senior-net-razor-pages-at-oesia-4295801374?position=5&pageNum=0&refId=6HWtAUGnpcjHoIaPrfkoGQ%3D%3D&trackingId=0JiPdLo%2B4CeaIj12Nmi%2F5w%3D%3D\n\uD83D\uDD0D Nivel de antigüedad: Intermedio\n\uD83D\uDD0D Tipo de empleo: Jornada completa\n\uD83D\uDD0D Función laboral: Ingeniería y Tecnología de la información\n\uD83D\uDD0D Sectores: Servicios y consultoría de TI\n✅ Job scraped\n\n➡️ Scraping https://es.linkedin.com/jobs/view/senior-sap-abap-developer-at-epam-systems-4295543603?position=6&pageNum=0&refId=6HWtAUGnpcjHoIaPrfkoGQ%3D%3D&trackingId=JlggHx%2FjdgQqdmv0gEmrCg%3D%3D\n\uD83D\uDD0D Nivel de antigüedad: Intermedio\n\uD83D\uDD0D Tipo de empleo: Jornada completa\n\uD83D\uDD0D Función laboral: Tecnología de la información, Ingeniería y Desarrollo empresarial\n\uD83D\uDD0D Sectores: Desarrollo de software y Servicios y consultoría de TI\n✅ Job scraped\n\n\n\uD83C\uDF0D Buscando ofertas en Navarra...\n\n\uD83D\uDD0E Scraping page: https://www.linkedin.com/jobs-guest/jobs/api/seeMoreJobPostings/search?keywords=Data%20Scientist&location=Navarra&f_TPR=r86400&trk=public_jobs_jobs-search-bar_search-submit&start=0 ...\n\uD83D\uDD0E Scraping page: https://www.linkedin.com/jobs-guest/jobs/api/seeMoreJobPostings/search?keywords=Data%20Scientist&location=Navarra&f_TPR=r86400&trk=public_jobs_jobs-search-bar_search-submit&start=10 ...\n⚠️ Error 429, reintento 1/3\n✅ No se encontraron más ofertas en esta página.\n✅ 2 ofertas encontradas en Navarra\n\n➡️ Scraping https://es.linkedin.com/jobs/view/programador-a-plc-pamplona-at-mecalux-4281067060?position=1&pageNum=0&refId=%2FZSmCDbn7oMtoWhqZeZUBg%3D%3D&trackingId=6P7TsN%2F8ldURob42ed%2BBPw%3D%3D\n\uD83D\uDD0D Nivel de antigüedad: Intermedio\n\uD83D\uDD0D Tipo de empleo: Jornada completa\n\uD83D\uDD0D Función laboral: Ingeniería\n\uD83D\uDD0D Sectores: Transporte, logística, cadena de suministro y almacenamiento\n✅ Job scraped\n\n➡️ Scraping https://es.linkedin.com/jobs/view/senior-software-developer-microsoft-dynamics-365-f-scm-all-genders-welcome-at-cosmo-consult-4291750393?position=2&pageNum=0&refId=%2FZSmCDbn7oMtoWhqZeZUBg%3D%3D&trackingId=%2Fbeg2jFGCPDR3X5hn8DfRg%3D%3D\n\uD83D\uDD0D Nivel de antigüedad: Intermedio\n\uD83D\uDD0D Tipo de empleo: Jornada completa\n\uD83D\uDD0D Función laboral: Ingeniería y Tecnología de la información\n\uD83D\uDD0D Sectores: Servicios y consultoría de TI\n✅ Job scraped\n\n\n\uD83C\uDF0D Buscando ofertas en Euskadi...\n\n\uD83D\uDD0E Scraping page: https://www.linkedin.com/jobs-guest/jobs/api/seeMoreJobPostings/search?keywords=Data%20Scientist&location=Euskadi&f_TPR=r86400&trk=public_jobs_jobs-search-bar_search-submit&start=0 ...\n\uD83D\uDD0E Scraping page: https://www.linkedin.com/jobs-guest/jobs/api/seeMoreJobPostings/search?keywords=Data%20Scientist&location=Euskadi&f_TPR=r86400&trk=public_jobs_jobs-search-bar_search-submit&start=10 ...\n\uD83D\uDD0E Scraping page: https://www.linkedin.com/jobs-guest/jobs/api/seeMoreJobPostings/search?keywords=Data%20Scientist&location=Euskadi&f_TPR=r86400&trk=public_jobs_jobs-search-bar_search-submit&start=20 ...\n✅ No se encontraron más ofertas en esta página.\n✅ 14 ofertas encontradas en Euskadi\n\n➡️ Scraping https://es.linkedin.com/jobs/view/middleware-engineer-at-cipex-consejo-de-ingenieros-peruanos-en-el-exterior-4297189836?position=8&pageNum=0&refId=aqkkAMkIbQeANLYvFJSLiw%3D%3D&trackingId=cH3cNhxDdNVGhdlIhux8FA%3D%3D\n\uD83D\uDD0D Nivel de antigüedad: Intermedio\n\uD83D\uDD0D Tipo de empleo: Contrato por obra\n\uD83D\uDD0D Función laboral: Tecnología de la información\n\uD83D\uDD0D Sectores: Banca de inversión\n✅ Job scraped\n\n➡️ Scraping https://es.linkedin.com/jobs/view/senior-software-developer-microsoft-dynamics-365-f-scm-all-genders-welcome-at-cosmo-consult-4291744616?position=2&pageNum=1&refId=pUaESy%2BUejIXQPXE%2BX8uMA%3D%3D&trackingId=3eJdhsN9%2BMqTcVWtxEdcRw%3D%3D\n\uD83D\uDD0D Nivel de antigüedad: Intermedio\n\uD83D\uDD0D Tipo de empleo: Jornada completa\n\uD83D\uDD0D Función laboral: Ingeniería y Tecnología de la información\n\uD83D\uDD0D Sectores: Servicios y consultoría de TI\n✅ Job scraped\n\n➡️ Scraping https://es.linkedin.com/jobs/view/senior-sap-abap-developer-at-epam-systems-4295554556?position=3&pageNum=1&refId=pUaESy%2BUejIXQPXE%2BX8uMA%3D%3D&trackingId=8dN74Wc0X4pi6pR0wk3FWw%3D%3D\n\uD83D\uDD0D Nivel de antigüedad: Intermedio\n\uD83D\uDD0D Tipo de empleo: Jornada completa\n\uD83D\uDD0D Función laboral: Tecnología de la información, Ingeniería y Desarrollo empresarial\n\uD83D\uDD0D Sectores: Desarrollo de software y Servicios y consultoría de TI\n✅ Job scraped\n\n➡️ Scraping https://es.linkedin.com/jobs/view/ingeniero-desarrollo-de-software-para-empresa-desarollo-bms-battery-management-system-at-lhh-4297513553?position=3&pageNum=0&refId=aqkkAMkIbQeANLYvFJSLiw%3D%3D&trackingId=k4Wzy0gwTwW2EAk20%2FV%2Fbw%3D%3D\n\uD83D\uDD0D Nivel de antigüedad: Algo de responsabilidad\n\uD83D\uDD0D Tipo de empleo: Jornada completa\n\uD83D\uDD0D Función laboral: Ingeniería\n\uD83D\uDD0D Sectores: Fabricación de vehículos de motor, Servicios y consultoría de TI y Servicios de ingeniería\n✅ Job scraped\n\n➡️ Scraping https://es.linkedin.com/jobs/view/programador-full-stack-at-hays-4295551772?position=2&pageNum=0&refId=aqkkAMkIbQeANLYvFJSLiw%3D%3D&trackingId=ZCW1DzAY2ffWbypHBk1dqA%3D%3D\n\uD83D\uDD0D Nivel de antigüedad: Algo de responsabilidad\n\uD83D\uDD0D Tipo de empleo: Jornada completa\n\uD83D\uDD0D Función laboral: Tecnología de la información\n\uD83D\uDD0D Sectores: Dotación y selección de personal\n✅ Job scraped\n\n➡️ Scraping https://es.linkedin.com/jobs/view/ingeniero-de-sw-equipos-de-potencia-at-caf-construcciones-y-auxiliar-de-ferrocarriles-4262149235?position=10&pageNum=0&refId=aqkkAMkIbQeANLYvFJSLiw%3D%3D&trackingId=V3OxtgbmQc5nzRmECzlVFw%3D%3D\n\uD83D\uDD0D Nivel de antigüedad: Intermedio\n\uD83D\uDD0D Tipo de empleo: Jornada completa\n\uD83D\uDD0D Función laboral: Ingeniería y Tecnología de la información\n\uD83D\uDD0D Sectores: Fabricación de vehículos de motor\n✅ Job scraped\n\n➡️ Scraping https://es.linkedin.com/jobs/view/ingeniero-a-de-firmware-embebido-at-alten-spain-4292756214?position=9&pageNum=0&refId=aqkkAMkIbQeANLYvFJSLiw%3D%3D&trackingId=XV2SxTJOKj85P04%2Fv0z6ig%3D%3D\n⚠️ Error 429 en https://es.linkedin.com/jobs/view/ingeniero-a-de-firmware-embebido-at-alten-spain-4292756214?position=9&pageNum=0&refId=aqkkAMkIbQeANLYvFJSLiw%3D%3D&trackingId=XV2SxTJOKj85P04%2Fv0z6ig%3D%3D, reintento 1/3\n\uD83D\uDD0D Nivel de antigüedad: Algo de responsabilidad\n\uD83D\uDD0D Tipo de empleo: Jornada completa\n\uD83D\uDD0D Función laboral: Ingeniería\n\uD83D\uDD0D Sectores: Servicios de ingeniería\n✅ Job scraped\n\n➡️ Scraping https://es.linkedin.com/jobs/view/ingeniero-de-desarrollo-at-ulma-medical-technologies-4295543351?position=1&pageNum=0&refId=aqkkAMkIbQeANLYvFJSLiw%3D%3D&trackingId=207eVB62KsbOVpFGDLGn4w%3D%3D\n\uD83D\uDD0D Nivel de antigüedad: Intermedio\n\uD83D\uDD0D Tipo de empleo: Jornada completa\n\uD83D\uDD0D Función laboral: Ingeniería y Tecnología de la información\n\uD83D\uDD0D Sectores: Servicios médicos\n✅ Job scraped\n\n➡️ Scraping https://es.linkedin.com/jobs/view/programador-a-cam-at-lhh-4250118272?position=5&pageNum=0&refId=aqkkAMkIbQeANLYvFJSLiw%3D%3D&trackingId=5eRbAuLUwQDezNUMXHzjlw%3D%3D\n\uD83D\uDD0D Nivel de antigüedad: Algo de responsabilidad\n\uD83D\uDD0D Tipo de empleo: Jornada completa\n\uD83D\uDD0D Función laboral: Producción y Gestión de proyectos\n\uD83D\uDD0D Sectores: Fabricación de maquinaria\n✅ Job scraped\n\n➡️ Scraping https://es.linkedin.com/jobs/view/data-engineer-at-ipf-%C2%B7-foamledge-4295578230?position=4&pageNum=0&refId=aqkkAMkIbQeANLYvFJSLiw%3D%3D&trackingId=1cEmMchUBEEdDl1CMi1R6Q%3D%3D\n\uD83D\uDD0D Nivel de antigüedad: Intermedio\n\uD83D\uDD0D Tipo de empleo: Jornada completa\n\uD83D\uDD0D Función laboral: Tecnología de la información\n\uD83D\uDD0D Sectores: Ingeniería industrial o mecánica\n✅ Job scraped\n\n➡️ Scraping https://es.linkedin.com/jobs/view/senior-researcher-on-additive-manufacturing-digital-design-and-fabrication-technologies-for-building-products-at-tecnalia-research-innovation-4297533658?position=7&pageNum=0&refId=aqkkAMkIbQeANLYvFJSLiw%3D%3D&trackingId=IG7Mc6oCdCKou1b147%2F7tw%3D%3D\n\uD83D\uDD0D Nivel de antigüedad: Algo de responsabilidad\n\uD83D\uDD0D Tipo de empleo: Jornada completa\n\uD83D\uDD0D Función laboral: Investigación\n\uD83D\uDD0D Sectores: Servicios de investigación\n✅ Job scraped\n\n➡️ Scraping https://es.linkedin.com/jobs/view/programador-de-cobol-at-kuik%21-software-it-ia-4297606057?position=1&pageNum=1&refId=pUaESy%2BUejIXQPXE%2BX8uMA%3D%3D&trackingId=RQ6Av8k132159HTbancHEQ%3D%3D\n\uD83D\uDD0D Nivel de antigüedad: No corresponde\n\uD83D\uDD0D Tipo de empleo: Jornada completa\n\uD83D\uDD0D Función laboral: Tecnología de la información\n\uD83D\uDD0D Sectores: Tecnología, información e internet\n✅ Job scraped\n\n➡️ Scraping https://es.linkedin.com/jobs/view/senior-sap-abap-developer-at-epam-systems-4295553559?position=4&pageNum=1&refId=pUaESy%2BUejIXQPXE%2BX8uMA%3D%3D&trackingId=rAhbcW2icGxGiWFlXTv0vA%3D%3D\n\uD83D\uDD0D Nivel de antigüedad: Intermedio\n\uD83D\uDD0D Tipo de empleo: Jornada completa\n\uD83D\uDD0D Función laboral: Tecnología de la información, Ingeniería y Desarrollo empresarial\n\uD83D\uDD0D Sectores: Desarrollo de software y Servicios y consultoría de TI\n✅ Job scraped\n\n➡️ Scraping https://es.linkedin.com/jobs/view/desarrollador-a-de-vb-net-c%23-at-echemar-4295524962?position=6&pageNum=0&refId=aqkkAMkIbQeANLYvFJSLiw%3D%3D&trackingId=zpJhEMhoBaGs0UWxujYsvg%3D%3D\n\uD83D\uDD0D Nivel de antigüedad: Sin experiencia\n\uD83D\uDD0D Tipo de empleo: Jornada completa\n\uD83D\uDD0D Función laboral: Ingeniería y Tecnología de la información\n\uD83D\uDD0D Sectores: Transporte terrestre en camión\n✅ Job scraped\n\n\n\uD83C\uDF0D Buscando ofertas en La Rioja, La Rioja, España...\n\n\uD83D\uDD0E Scraping page: https://www.linkedin.com/jobs-guest/jobs/api/seeMoreJobPostings/search?keywords=Data%20Scientist&location=La Rioja, La Rioja, España&f_TPR=r86400&trk=public_jobs_jobs-search-bar_search-submit&start=0 ...\n✅ No se encontraron más ofertas en esta página.\n✅ 0 ofertas encontradas en La Rioja, La Rioja, España\n\n\uD83C\uDF89 582 ofertas guardadas en jobs_2025-09-08.csv\n\n"
     ]
    }
   ],
   "source": [
    "all_jobs = []\n",
    "\n",
    "\n",
    "for comunidad in comunidades:\n",
    "    print(f\"\\n\uD83C\uDF0D Buscando ofertas en {comunidad}...\\n\")\n",
    "    # f_TPR=r2592000 Mensual\n",
    "    # f_TPR=r86400 Diario\n",
    "\n",
    "    base_url = f\"https://www.linkedin.com/jobs-guest/jobs/api/seeMoreJobPostings/search?keywords={empleo}&location={comunidad}&f_TPR={tipo_publicacion}&trk=public_jobs_jobs-search-bar_search-submit\"\n",
    "    job_urls = retrieve_job_urls(base_url)\n",
    "    \n",
    "    print(f\"✅ {len(job_urls)} ofertas encontradas en {comunidad}\\n\")\n",
    "\n",
    "    for job_url in job_urls:\n",
    "        print(f\"➡️ Scraping {job_url}\")\n",
    "        job = scrape_job(job_url)\n",
    "        if job:\n",
    "            all_jobs.append(job)\n",
    "        print(\"✅ Job scraped\\n\")\n",
    "\n",
    "# Guardar en CSV\n",
    "today = datetime.now().strftime(\"%Y-%m-%d\")\n",
    "file_name = f\"jobs_{today}.csv\"\n",
    "\n",
    "# Definimos todos los fieldnames, incluyendo los campos de criterios\n",
    "fieldnames = [\n",
    "    \"url\", \"title\", \"company_name\", \"company_url\", \"location\", \"applications\", \"salary\", \"description\",\n",
    "    \"Nivel de antigüedad\", \"Tipo de empleo\", \"Función laboral\", \"Sectores\"\n",
    "]\n",
    "\n",
    "with open(file_name, \"w\", encoding=\"utf-8\", newline=\"\") as csvfile:\n",
    "    writer = csv.DictWriter(csvfile, fieldnames=fieldnames)\n",
    "    writer.writeheader()\n",
    "\n",
    "    for job in all_jobs:\n",
    "        # Aseguramos que todos los criterios estén presentes en el diccionario, aunque falten\n",
    "        for key in ['Nivel de antigüedad', 'Sectores', 'Función laboral', 'Tipo de empleo']:\n",
    "            if key not in job:\n",
    "                job[key] = None\n",
    "        writer.writerow(job)\n",
    "\n",
    "print(f\"\uD83C\uDF89 {len(all_jobs)} ofertas guardadas en {file_name}\\n\")\n"
   ]
  },
  {
   "cell_type": "code",
   "execution_count": 0,
   "metadata": {
    "application/vnd.databricks.v1+cell": {
     "cellMetadata": {
      "byteLimit": 2048000,
      "rowLimit": 10000
     },
     "inputWidgets": {},
     "nuid": "6a381d00-aab0-4bf1-85f5-a8f0ef5fe876",
     "showTitle": false,
     "tableResultSettingsMap": {},
     "title": ""
    }
   },
   "outputs": [],
   "source": [
    "spark.conf.set(\"fs.azure.account.key.masterhxc001sta.dfs.core.windows.net\", \"EiVxnncfGqoVlo/NFjFZkPk3CsXHwpfNlgynSLp7zOFbvnc6PBeReMsJi+YOEqsUyTKVUXwe9HrX+AStcTyh/w==\")"
   ]
  },
  {
   "cell_type": "code",
   "execution_count": 0,
   "metadata": {
    "application/vnd.databricks.v1+cell": {
     "cellMetadata": {
      "byteLimit": 2048000,
      "rowLimit": 10000
     },
     "inputWidgets": {},
     "nuid": "b405a768-a88f-49c8-b97b-1bdd5253292e",
     "showTitle": false,
     "tableResultSettingsMap": {},
     "title": ""
    }
   },
   "outputs": [
    {
     "output_type": "stream",
     "name": "stdout",
     "output_type": "stream",
     "text": [
      "✅ Datos guardados en abfss://ofertas-empleo@masterhxc001sta.dfs.core.windows.net/Staging/jobs_2025-09-08/\n"
     ]
    }
   ],
   "source": [
    "import pandas as pd\n",
    "import pyspark.pandas as ps\n",
    "from datetime import datetime\n",
    "\n",
    "# Suponiendo que ya tienes la lista all_jobs\n",
    "# Convertimos a DataFrame de Pandas\n",
    "df = pd.DataFrame(all_jobs)\n",
    "\n",
    "# Convertimos a Spark DataFrame\n",
    "spark_df = ps.from_pandas(df).to_spark()\n",
    "\n",
    "# Nombre dinámico para el output\n",
    "today = datetime.now().strftime(\"%Y-%m-%d\")\n",
    "output_path = f\"abfss://ofertas-empleo@masterhxc001sta.dfs.core.windows.net/Staging/jobs_{today}/\"\n",
    "\n",
    "# Guardar directamente en Blob Storage en formato CSV\n",
    "(spark_df\n",
    "    .write\n",
    "    .mode(\"overwrite\")\n",
    "    .option(\"header\", \"true\")\n",
    "    .csv(output_path)\n",
    ")\n",
    "\n",
    "print(f\"✅ Datos guardados en {output_path}\")\n"
   ]
  }
 ],
 "metadata": {
  "application/vnd.databricks.v1+notebook": {
   "computePreferences": null,
   "dashboards": [],
   "environmentMetadata": null,
   "inputWidgetPreferences": null,
   "language": "python",
   "notebookMetadata": {
    "pythonIndentUnit": 4
   },
   "notebookName": "jobs_scraping",
   "widgets": {}
  },
  "colab": {
   "provenance": []
  },
  "kernelspec": {
   "display_name": "Python 3",
   "name": "python3"
  },
  "language_info": {
   "name": "python"
  }
 },
 "nbformat": 4,
 "nbformat_minor": 0
}